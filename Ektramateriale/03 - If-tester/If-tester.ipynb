{
 "cells": [
  {
   "cell_type": "markdown",
   "metadata": {},
   "source": [
    "# If-tester"
   ]
  },
  {
   "cell_type": "markdown",
   "metadata": {},
   "source": [
    "## Hva er if-tester og hvorfor benytter vi dem?"
   ]
  },
  {
   "cell_type": "markdown",
   "metadata": {},
   "source": [
    "Et veldig vanlig scenario innenfor programmering er at vi ønsker at enkelte kodesekvenser bare skal kjøre når visse betingelser er møtt <br>\n",
    "Dette kan for eksempel være relevant når vi ikke på forhånd kan vite nøyaktig hva hvilke dataer vi må håndtere, noe som fore kommer ganske ofte. <br> \n",
    "For slike scenarioer kan man benytte det som kalles *If-tester*.\n",
    "\n",
    "En if-test er overordnet en samling med kodelinjer som bare vil kjøre hvis visse definerte betingelser er oppfylt. <br>\n",
    "--> Hvis *x* er tilfellet, vil *y* bli kjørt.\n",
    "\n",
    "Dette kan konseptuelt sammenlignes med handlingsvalg i virkeligheten, hvor forskjellige situasjoner vil kreve forskjellige handlinger. <br>\n",
    "Sammenlignet vil forskjellige data og \"tilstander\" kreve forskjellig programmeringsmessig håndtering. "
   ]
  },
  {
   "cell_type": "markdown",
   "metadata": {},
   "source": [
    "## Hvordan skrive og benytte if-tester"
   ]
  },
  {
   "cell_type": "markdown",
   "metadata": {},
   "source": [
    "If tester skrives ved å definere en \"overordnet\" kodelinje som representerer betingelsen for kjøring, etterfulgt av \":\". <br>\n",
    "\":\" betegner her at dette er en kodelinje som har en tilhørende samling med kode. <br>\n",
    "I python, benytter vi indentering (TAB) for å definere tilhørende kode.\n",
    "Bemerk deg at verken \"overordnede\" kodelinjer eller bruken av \":\" er unikt for if-tester. <br>\n",
    "Disse er ting vi også vil bruke i andre kodesammenhenger.\n",
    "\n",
    "Den tilhørende koden vil kjøre vis betingelsen er sann, som programmeringsmessig vil si at den returnerer Boolean-verdien, True. <br>\n",
    "Hvis den returnerte verdien ikke er True (altså False), vil den tilhørende kodesamlingen ikke kjøre. \n",
    "\n",
    "For å definere betingelsen(e) for kjøring av at den tilhørende koden for en gitt if-test, benytter vi det som kalles for *sammenligningsoperatorer* og/eller *logiske operatorer*. <br>\n",
    "Vi vil gå gjennom disse i detalj i en annen notebook, men for nå kan vi benytte sammenligningsoperatoren, ==, som et eksempel. <br> \n",
    "Denne operatoren sjekker om to verdier er like, og returnerer True hvis dette er tilfellet, og ellers, False.\n",
    "\n",
    "### if\n",
    "Det følgende er et eksempel på en if-test hvor vi sjekker om variabelen, \"number\", er lik verdien 5 og printer en tilhørende tekststreng hvis dette er tilfellet:"
   ]
  },
  {
   "cell_type": "code",
   "execution_count": 15,
   "metadata": {},
   "outputs": [
    {
     "name": "stdout",
     "output_type": "stream",
     "text": [
      "The number is 5.\n"
     ]
    }
   ],
   "source": [
    "number = 5\n",
    "if number == 5:\n",
    "    print(\"The number is 5.\")"
   ]
  },
  {
   "cell_type": "markdown",
   "metadata": {},
   "source": [
    "I eksempelet over kan vi se at tekstrengen ble skrevet ut siden variabelen, \"number\", er lik verdien 5.\n",
    "\n",
    "Eksempelet under, på en annen side, demonstrerer at tekststrengen ikke vil bli skrevet ut hvis \"number\"-variabelen ikke er lik verdien 5."
   ]
  },
  {
   "cell_type": "code",
   "execution_count": 2,
   "metadata": {},
   "outputs": [],
   "source": [
    "number = 89\n",
    "if number == 5:\n",
    "    print(\"The number is 5.\")"
   ]
  },
  {
   "cell_type": "markdown",
   "metadata": {},
   "source": [
    "### else\n",
    "I enkelte tilfeller ønsker vi ikke bare å håndtere når en betingelse er oppfylt, men også når betingelsen ikke er oppfylt. <br>\n",
    "I dette tilfellet kan vi benytte \"else\", som vil håndtere alle andre tilfeller enn if-testen definert direkte over. <br>\n",
    "I konteksten av dette eksempelet, vil det si alle tilfeller hvor \"number\"-variabelen ikke er 5:"
   ]
  },
  {
   "cell_type": "code",
   "execution_count": 3,
   "metadata": {},
   "outputs": [
    {
     "name": "stdout",
     "output_type": "stream",
     "text": [
      "The number is not 5.\n"
     ]
    }
   ],
   "source": [
    "number = 89\n",
    "if number == 5:\n",
    "    print(\"The number is 5.\")\n",
    "else:\n",
    "    print(\"The number is not 5.\")"
   ]
  },
  {
   "cell_type": "markdown",
   "metadata": {},
   "source": [
    "Vi kan se at siden \"number\"-variabelen ikke er 5 vil den tilhørende koden til \"else\" kjøre i stedet."
   ]
  },
  {
   "cell_type": "markdown",
   "metadata": {},
   "source": [
    "### elif (else if)\n",
    "Et annet relevant tilfelle for if-tester er når vi ønsker å håndtere flere enn to betingelser. <br>\n",
    "I slike tilfeller kan vi benytte \"elif\", som vil håndtere en annen definert betingelse enn den tidligere definerte if-testen:"
   ]
  },
  {
   "cell_type": "code",
   "execution_count": 16,
   "metadata": {},
   "outputs": [
    {
     "name": "stdout",
     "output_type": "stream",
     "text": [
      "The number is 89.\n"
     ]
    }
   ],
   "source": [
    "number = 89\n",
    "if number == 5:\n",
    "    print(\"The number is 5.\")\n",
    "elif number == 89:\n",
    "    print(\"The number is 89.\")\n",
    "else:\n",
    "    print(\"The number is not 5 or 89.\")"
   ]
  },
  {
   "cell_type": "markdown",
   "metadata": {},
   "source": [
    "Fra dette kan vi se at bare betingelsen for at \"number\"-variabelen er 89 er oppfylt og at bare den korresponderende tekstrengen blir printet.\n",
    "\n",
    "### If, elif og else henger sammen\n",
    "Bemerk at if, elif og else henger sammen, og bare en av disse vil kunne kjøre:"
   ]
  },
  {
   "cell_type": "code",
   "execution_count": 17,
   "metadata": {},
   "outputs": [
    {
     "name": "stdout",
     "output_type": "stream",
     "text": [
      "The number is 89.\n"
     ]
    }
   ],
   "source": [
    "number = 89\n",
    "if number == 5:\n",
    "    print(\"The number is 5.\")\n",
    "elif number == 89:\n",
    "    print(\"The number is 89.\")\n",
    "elif number == 89:\n",
    "    print(\"The number is 89.\")\n",
    "else:\n",
    "    print(\"The number is not 5 or 89.\")"
   ]
  },
  {
   "cell_type": "markdown",
   "metadata": {},
   "source": [
    "Vi kan her se at selv om den samme betingelsen er definert to ganger, vil bare en av dem kjøre. <br>\n",
    "Dette er fordi python skjekker hver av betingelsene i rekkefølge inntill en av dem er oppfylt. <br>\n",
    "De følgende betingelsene vil bli ignorert.  \n",
    "\n",
    "Hvis du ønsker å benytte flere uavhengige if-tester, kan dette gjøres ved å benytte \"if\" på nytt:"
   ]
  },
  {
   "cell_type": "code",
   "execution_count": 18,
   "metadata": {},
   "outputs": [
    {
     "name": "stdout",
     "output_type": "stream",
     "text": [
      "The number is 1.\n",
      "The number is 1 again.\n"
     ]
    }
   ],
   "source": [
    "number = 1\n",
    "if number == 1:\n",
    "    print(\"The number is 1.\")\n",
    "if number == 1:\n",
    "    print(\"The number is 1 again.\")"
   ]
  },
  {
   "cell_type": "markdown",
   "metadata": {},
   "source": [
    "Bemerk også at elif og else må være definert direkte etter hverandre. <br>\n",
    "Hvis ikke, vil python gi en syntax error og koden vil ikke kjøre:"
   ]
  },
  {
   "cell_type": "code",
   "execution_count": 4,
   "metadata": {},
   "outputs": [
    {
     "ename": "SyntaxError",
     "evalue": "invalid syntax (<ipython-input-4-e649288c0688>, line 9)",
     "output_type": "error",
     "traceback": [
      "\u001b[1;36m  File \u001b[1;32m\"<ipython-input-4-e649288c0688>\"\u001b[1;36m, line \u001b[1;32m9\u001b[0m\n\u001b[1;33m    else:\u001b[0m\n\u001b[1;37m    ^\u001b[0m\n\u001b[1;31mSyntaxError\u001b[0m\u001b[1;31m:\u001b[0m invalid syntax\n"
     ]
    }
   ],
   "source": [
    "number = 89\n",
    "if number == 5:\n",
    "    print(\"The number is 5.\")\n",
    "elif number == 89:\n",
    "    print(\"The number is 89.\")\n",
    "    \n",
    "print(\"something...\")\n",
    "    \n",
    "else:\n",
    "    print(\"The number is not 5 or 89.\")"
   ]
  },
  {
   "cell_type": "markdown",
   "metadata": {},
   "source": [
    "Vi kan se at siden det er en print()-linje mellom elif og else, er python missfornøyd, og vil ikke kjøre. <br>\n",
    "Dete samme ville vært tilfellet om print()-linjen var mellom if og elif, eller mellom if og else. "
   ]
  },
  {
   "cell_type": "markdown",
   "metadata": {},
   "source": [
    "### Innholdet i en if-test kan være hva som helst "
   ]
  },
  {
   "cell_type": "markdown",
   "metadata": {},
   "source": [
    "Ut ifra de tidligere eksemplene kan det være enkelt å gjøre enkelte feilaktige antagelser for hva innholdet av en gitt if-test kan være. <br>\n",
    "Disse har for eksempel bare èn kodelinje per if-test. <br>\n",
    "Bemerk likevel at antall kodelinjer er vilkårlig. \n",
    "\n",
    "Under er et tilfeldig eksempel hvor vi har benyttet to kodelinjer, hvor en av dem oppretter en intern variabel for if-testen:"
   ]
  },
  {
   "cell_type": "code",
   "execution_count": 14,
   "metadata": {},
   "outputs": [
    {
     "name": "stdout",
     "output_type": "stream",
     "text": [
      "10 plus 5 is 15\n"
     ]
    }
   ],
   "source": [
    "number = 10\n",
    "if number == 10:\n",
    "    number_plus_five = number + 5\n",
    "    print(\"10 plus 5 is\", number_plus_five)"
   ]
  },
  {
   "cell_type": "markdown",
   "metadata": {},
   "source": [
    "Selv om det teknisk sett ikke er noen begrensning på hvor mange linjer en gitt if-test inneholder er det likevel mest vanlig å strukturere koden på en slik måte at if-tester inneholder relativt få linjer. \n",
    "\n",
    "En annen ting som er verdt å bemerke seg, er at if-tester ikke trenger å benytte print(). <br>\n",
    "Logikken en if-test inneholder kommer helt an på hva du som programmerer ønsker den skal gjøre. <br>\n",
    "I eksempelet under benytter vi en if-test til å sette en variabel til en ny verdi:"
   ]
  },
  {
   "cell_type": "code",
   "execution_count": 19,
   "metadata": {},
   "outputs": [
    {
     "name": "stdout",
     "output_type": "stream",
     "text": [
      "10\n"
     ]
    }
   ],
   "source": [
    "number = \"ten\"\n",
    "if number == \"ten\":\n",
    "    number = 10\n",
    "print(number)"
   ]
  },
  {
   "cell_type": "code",
   "execution_count": null,
   "metadata": {},
   "outputs": [],
   "source": []
  }
 ],
 "metadata": {
  "kernelspec": {
   "display_name": "Python 3",
   "language": "python",
   "name": "python3"
  },
  "language_info": {
   "codemirror_mode": {
    "name": "ipython",
    "version": 3
   },
   "file_extension": ".py",
   "mimetype": "text/x-python",
   "name": "python",
   "nbconvert_exporter": "python",
   "pygments_lexer": "ipython3",
   "version": "3.8.6"
  }
 },
 "nbformat": 4,
 "nbformat_minor": 4
}
