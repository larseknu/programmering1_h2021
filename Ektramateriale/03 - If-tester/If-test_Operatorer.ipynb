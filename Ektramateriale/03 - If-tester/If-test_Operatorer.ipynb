{
 "cells": [
  {
   "cell_type": "markdown",
   "metadata": {},
   "source": [
    "# If-test Operatorer"
   ]
  },
  {
   "cell_type": "markdown",
   "metadata": {},
   "source": [
    "Som nevnt i den generelle notebooken for if-tester, benyttes det som kalles for *sammenligningsoperatorer* og/eller *logiske operatorer* i sammenheng med if-tester for å sjekke betingelser. <br>\n",
    "Disse er operatorer som sjekker om en type betingelse er oppfylt og returnerer enten True (oppfylt) eller False (ikke oppfylt) basert på resultatet. <br>\n",
    "En gitt if-test vil dermed kjøre hvis resultatet er True."
   ]
  },
  {
   "cell_type": "markdown",
   "metadata": {},
   "source": [
    "## Sammenligningsoperatorer"
   ]
  },
  {
   "cell_type": "markdown",
   "metadata": {},
   "source": [
    "Sammenligningsoperatorer benyttes for å sammenligne to verdier (rene verdier eller variabler). \n",
    "\n",
    "Sammenligningsoperatorene i python er som følger og returnerer True hvis betingelsen er oppfylt:\n",
    "* == (verdiene er like)\n",
    "* != (verdiene er ikke like)\n",
    "* \\> (verdien på den vestre siden av operatoren er større enn den på høyre side)\n",
    "* \\< (verdien på den venstre siden av operatoren er mindre enn den på høyre side)\n",
    "* \\>= (verdien på den vestre siden av operatoren er større enn eller lik den på høyre side)\n",
    "* \\<= (verdien på den venstre siden av operatoren er mindre enn eller lik den på høyre side)"
   ]
  },
  {
   "cell_type": "markdown",
   "metadata": {},
   "source": [
    "### == (er lik)"
   ]
  },
  {
   "cell_type": "markdown",
   "metadata": {},
   "source": [
    "Operatoren, ==, benyttes  for å sjekke om to verdier er like, og returnerer True hvis dette er tilfellet, slik som i det følgende eksemplet:"
   ]
  },
  {
   "cell_type": "code",
   "execution_count": 6,
   "metadata": {},
   "outputs": [
    {
     "name": "stdout",
     "output_type": "stream",
     "text": [
      "True\n"
     ]
    }
   ],
   "source": [
    "number = 3\n",
    "print(number == 3)"
   ]
  },
  {
   "cell_type": "markdown",
   "metadata": {},
   "source": [
    "Ellers vil den returnere False:"
   ]
  },
  {
   "cell_type": "code",
   "execution_count": 7,
   "metadata": {},
   "outputs": [
    {
     "name": "stdout",
     "output_type": "stream",
     "text": [
      "False\n"
     ]
    }
   ],
   "source": [
    "number = 100\n",
    "print(number == 8.9)"
   ]
  },
  {
   "cell_type": "markdown",
   "metadata": {},
   "source": [
    "Denne operatoren kan også benyttes for å sjekke tekststrenger:"
   ]
  },
  {
   "cell_type": "code",
   "execution_count": 8,
   "metadata": {},
   "outputs": [
    {
     "name": "stdout",
     "output_type": "stream",
     "text": [
      "True\n"
     ]
    }
   ],
   "source": [
    "text = \"hello\"\n",
    "print(text == \"hello\")"
   ]
  },
  {
   "cell_type": "markdown",
   "metadata": {},
   "source": [
    "### != (ikke lik)"
   ]
  },
  {
   "cell_type": "markdown",
   "metadata": {},
   "source": [
    "Operatoren, !=, benyttes for å sjekke om to verdier er ulike, og returnerer True hvis dette er tilfellet:"
   ]
  },
  {
   "cell_type": "code",
   "execution_count": 9,
   "metadata": {},
   "outputs": [
    {
     "name": "stdout",
     "output_type": "stream",
     "text": [
      "True\n"
     ]
    }
   ],
   "source": [
    "number = 2000\n",
    "print(number != 15)"
   ]
  },
  {
   "cell_type": "markdown",
   "metadata": {},
   "source": [
    "Det eneste tilfellet for denne operatoren vil returnere False, er dermed vis verdiene er like:"
   ]
  },
  {
   "cell_type": "code",
   "execution_count": 10,
   "metadata": {},
   "outputs": [
    {
     "name": "stdout",
     "output_type": "stream",
     "text": [
      "False\n"
     ]
    }
   ],
   "source": [
    "number = 2000\n",
    "print(number != 2000)"
   ]
  },
  {
   "cell_type": "markdown",
   "metadata": {},
   "source": [
    "Som med operatoren, ==, kan != også benyttes for sjekke tekststrenger:"
   ]
  },
  {
   "cell_type": "code",
   "execution_count": 11,
   "metadata": {},
   "outputs": [
    {
     "name": "stdout",
     "output_type": "stream",
     "text": [
      "True\n"
     ]
    }
   ],
   "source": [
    "text = \"hello\"\n",
    "print(text != \"hi\")"
   ]
  },
  {
   "cell_type": "markdown",
   "metadata": {},
   "source": [
    "### \\> (større enn) "
   ]
  },
  {
   "cell_type": "markdown",
   "metadata": {},
   "source": [
    "Operatoren, \\>, benyttes for å sjekke om verdien på venstre siden av operatoren er større enn verdien på høyre siden, og vil returnere True hvis dette er tilfellet. <br>\n",
    "Denne operatoren kan dermed bare benyttes på tall. <br>\n",
    "Det følgende eksemplet viser et tilfelle hvor betingelsen ved bruk av \\> er oppfylt:"
   ]
  },
  {
   "cell_type": "code",
   "execution_count": 12,
   "metadata": {},
   "outputs": [
    {
     "name": "stdout",
     "output_type": "stream",
     "text": [
      "True\n"
     ]
    }
   ],
   "source": [
    "number = 45.8\n",
    "print(number > 1)"
   ]
  },
  {
   "cell_type": "markdown",
   "metadata": {},
   "source": [
    "Hvis venstre verdi ikke er større enn høyre verdi, vil \\> returnere False. <br>\n",
    "Med andre ord; betingelsen er ikke oppfylt hvis venstre verdi er mindre eller lik høyre verdi, demonstrert ved de følgende eksemplene:"
   ]
  },
  {
   "cell_type": "code",
   "execution_count": 13,
   "metadata": {},
   "outputs": [
    {
     "name": "stdout",
     "output_type": "stream",
     "text": [
      "False\n"
     ]
    }
   ],
   "source": [
    "number = 1\n",
    "print(number > 45.8)"
   ]
  },
  {
   "cell_type": "code",
   "execution_count": 14,
   "metadata": {},
   "outputs": [
    {
     "name": "stdout",
     "output_type": "stream",
     "text": [
      "False\n"
     ]
    }
   ],
   "source": [
    "number = 45.8\n",
    "print(number > 45.8)"
   ]
  },
  {
   "cell_type": "markdown",
   "metadata": {},
   "source": [
    "### < (mindre enn)"
   ]
  },
  {
   "cell_type": "markdown",
   "metadata": {},
   "source": [
    "Operatoren, \\<, benyttes for å sjekke om verdien på venstre siden av operatoren er mindre enn verdien på høyre siden, og vil returnere True hvis dette er tilfellet. <br>\n",
    "Som ved \\>, kan \\< bare benyttes på tall verdier. <br>\n",
    "Det følgende eksemplet viset et tilfelle hvor betingelsen ved bruk av \\< er oppfylt:"
   ]
  },
  {
   "cell_type": "code",
   "execution_count": 15,
   "metadata": {},
   "outputs": [
    {
     "name": "stdout",
     "output_type": "stream",
     "text": [
      "True\n"
     ]
    }
   ],
   "source": [
    "number = 6\n",
    "print(number < 19)"
   ]
  },
  {
   "cell_type": "markdown",
   "metadata": {},
   "source": [
    "Hvis venstre verdi ikke er mindre enn høyre verdi, vil \\< returnere False. <br>\n",
    "Med andre ord; betingelsen er ikke oppfylt hvis venstre verdi er større eller lik høyre verdi, demonstrert ved de følgende eksemplene:"
   ]
  },
  {
   "cell_type": "code",
   "execution_count": 16,
   "metadata": {},
   "outputs": [
    {
     "name": "stdout",
     "output_type": "stream",
     "text": [
      "False\n"
     ]
    }
   ],
   "source": [
    "number = 19\n",
    "print(number < 6)"
   ]
  },
  {
   "cell_type": "code",
   "execution_count": 17,
   "metadata": {},
   "outputs": [
    {
     "name": "stdout",
     "output_type": "stream",
     "text": [
      "False\n"
     ]
    }
   ],
   "source": [
    "number = 6\n",
    "print(number < 6)"
   ]
  },
  {
   "cell_type": "markdown",
   "metadata": {},
   "source": [
    "### >= (større eller lik)"
   ]
  },
  {
   "cell_type": "markdown",
   "metadata": {},
   "source": [
    "Operatoren, >=, benyttes for å sjekke om verdien på venstre siden av operatoren er større eller lik verdien på høyre side. <br>\n",
    "Det vil si at begge av disse tilfellene vil returnere True, som demonstrert ved de følgende eksemplene:"
   ]
  },
  {
   "cell_type": "code",
   "execution_count": 18,
   "metadata": {},
   "outputs": [
    {
     "name": "stdout",
     "output_type": "stream",
     "text": [
      "True\n"
     ]
    }
   ],
   "source": [
    "number = 30\n",
    "print(number >= 4)"
   ]
  },
  {
   "cell_type": "code",
   "execution_count": 19,
   "metadata": {},
   "outputs": [
    {
     "name": "stdout",
     "output_type": "stream",
     "text": [
      "True\n"
     ]
    }
   ],
   "source": [
    "number = 30\n",
    "print(number >= 30)"
   ]
  },
  {
   "cell_type": "markdown",
   "metadata": {},
   "source": [
    "Det eneste tilfellet av denne operatoren som vil returnere False er dermed hvis venstre verdi er mindre enn høyre verdi:"
   ]
  },
  {
   "cell_type": "code",
   "execution_count": 20,
   "metadata": {},
   "outputs": [
    {
     "name": "stdout",
     "output_type": "stream",
     "text": [
      "False\n"
     ]
    }
   ],
   "source": [
    "number = 4\n",
    "print(number >= 30)"
   ]
  },
  {
   "cell_type": "markdown",
   "metadata": {},
   "source": [
    "### <= (mindre eller lik)"
   ]
  },
  {
   "cell_type": "markdown",
   "metadata": {},
   "source": [
    "Operatoren, <=, benyttes for å sjekke om verdien på venstre siden av operatoren er mindre eller lik verdien på høyre side. <br>\n",
    "Begge disse tilfellene vil dermed returnere True, som demonstrert i de følgende eksemplene:"
   ]
  },
  {
   "cell_type": "code",
   "execution_count": 21,
   "metadata": {},
   "outputs": [
    {
     "name": "stdout",
     "output_type": "stream",
     "text": [
      "True\n"
     ]
    }
   ],
   "source": [
    "number = 2\n",
    "print(number <= 3)"
   ]
  },
  {
   "cell_type": "code",
   "execution_count": 22,
   "metadata": {},
   "outputs": [
    {
     "name": "stdout",
     "output_type": "stream",
     "text": [
      "True\n"
     ]
    }
   ],
   "source": [
    "number = 3\n",
    "print(number <= 3)"
   ]
  },
  {
   "cell_type": "markdown",
   "metadata": {},
   "source": [
    "I tilfeller hvor den venstre verdien er større og betingelsen dermed ikke er oppfylt, vil denne operatoren returnere False:"
   ]
  },
  {
   "cell_type": "code",
   "execution_count": 23,
   "metadata": {},
   "outputs": [
    {
     "name": "stdout",
     "output_type": "stream",
     "text": [
      "False\n"
     ]
    }
   ],
   "source": [
    "number = 3\n",
    "print(number <= 2)"
   ]
  },
  {
   "cell_type": "markdown",
   "metadata": {},
   "source": [
    "## Logiske operatorer"
   ]
  },
  {
   "cell_type": "markdown",
   "metadata": {},
   "source": [
    "Logiske operatorer benyttes for å sjekke \"antallet\" av to eller flere betingelser som er oppfylt og returnerer True eller False basert på hva en gitt logisk operator betinger.\n",
    "\n",
    "De logiske operatorene i python er som følger, og returnerer True hvis betingelsen er oppfylt, og ellers False:\n",
    "* and (alle testede betingelser er oppfylt)\n",
    "* or (minst èn av de testede betingelsene er oppfylt)\n",
    "* not (testede betingelser er ikke oppfylt)"
   ]
  },
  {
   "cell_type": "markdown",
   "metadata": {},
   "source": [
    "### and"
   ]
  },
  {
   "cell_type": "markdown",
   "metadata": {},
   "source": [
    "Operatoren, and, benyttes for å sjekke at flere betingelser er oppfylt, og returnerer True hvis dette er tilfellet:"
   ]
  },
  {
   "cell_type": "code",
   "execution_count": 24,
   "metadata": {},
   "outputs": [
    {
     "name": "stdout",
     "output_type": "stream",
     "text": [
      "True\n"
     ]
    }
   ],
   "source": [
    "number = 9\n",
    "print(number < 30 and number != 15)"
   ]
  },
  {
   "cell_type": "markdown",
   "metadata": {},
   "source": [
    "I dette tilfellet kan vi se at betingelsene på begge sider av and-operatoren er oppfylt, og True blir returnert.\n",
    "\n",
    "Dette fungerer også ved bruk av flere enn 2 betingelser, som kan skrives på følgende måte:"
   ]
  },
  {
   "cell_type": "code",
   "execution_count": 25,
   "metadata": {},
   "outputs": [
    {
     "name": "stdout",
     "output_type": "stream",
     "text": [
      "True\n"
     ]
    }
   ],
   "source": [
    "number = 9\n",
    "print(number > 5 and number < 30 and number != 15)"
   ]
  },
  {
   "cell_type": "markdown",
   "metadata": {},
   "source": [
    "and-operatoren krever på en annen side at alle testede betingelser er oppfylt for å returnere True. <br>\n",
    "Hvis en eller flere av betingelsene ikke er oppfylt, vil and-operatoren returnere False:"
   ]
  },
  {
   "cell_type": "code",
   "execution_count": 26,
   "metadata": {},
   "outputs": [
    {
     "name": "stdout",
     "output_type": "stream",
     "text": [
      "False\n"
     ]
    }
   ],
   "source": [
    "number = 15\n",
    "print(number > 5 and number < 30 and number != 15)"
   ]
  },
  {
   "cell_type": "markdown",
   "metadata": {},
   "source": [
    "### or"
   ]
  },
  {
   "cell_type": "markdown",
   "metadata": {},
   "source": [
    "Operatoren, or, benyttes for å sjekke om minst èn betingelse er oppfylt, og returnerer True hvis dette er tilfellet:"
   ]
  },
  {
   "cell_type": "code",
   "execution_count": 27,
   "metadata": {},
   "outputs": [
    {
     "name": "stdout",
     "output_type": "stream",
     "text": [
      "True\n"
     ]
    }
   ],
   "source": [
    "number = 11\n",
    "print(number < 6 or number == 11)"
   ]
  },
  {
   "cell_type": "markdown",
   "metadata": {},
   "source": [
    "I dette tilfellet kan vi set at bare en av betingelsene er oppfylt og at or-operatoren returnerer True.\n",
    "\n",
    "Ettersom at or-operatoren bare krever at minst èn betingelse oppfylt vil denne operatoren også returnere True hvis alle betingelser er oppfylt:"
   ]
  },
  {
   "cell_type": "code",
   "execution_count": 28,
   "metadata": {},
   "outputs": [
    {
     "name": "stdout",
     "output_type": "stream",
     "text": [
      "True\n"
     ]
    }
   ],
   "source": [
    "number = 8\n",
    "print(number < 10 or number == 8)"
   ]
  },
  {
   "cell_type": "markdown",
   "metadata": {},
   "source": [
    "Som ved and-operatoren, kan or-operatoren også benyttes for å sjekke en vilkårlig mengde betingelser:"
   ]
  },
  {
   "cell_type": "code",
   "execution_count": 30,
   "metadata": {},
   "outputs": [
    {
     "name": "stdout",
     "output_type": "stream",
     "text": [
      "True\n"
     ]
    }
   ],
   "source": [
    "number = 2\n",
    "print(number == 1 or number == 2 or number == 3)"
   ]
  },
  {
   "cell_type": "markdown",
   "metadata": {},
   "source": [
    "Det eneste tilfellet or-operatoren vil returnere False er hvis ingen av betingelsene er oppfylt:"
   ]
  },
  {
   "cell_type": "code",
   "execution_count": 29,
   "metadata": {},
   "outputs": [
    {
     "name": "stdout",
     "output_type": "stream",
     "text": [
      "False\n"
     ]
    }
   ],
   "source": [
    "number = 10\n",
    "print(number < 5 or number > 15)"
   ]
  },
  {
   "cell_type": "markdown",
   "metadata": {},
   "source": [
    "### not"
   ]
  },
  {
   "cell_type": "markdown",
   "metadata": {},
   "source": [
    "Operatoren, not, er litt annerledes enn de to andre logiske operatorene. <br>\n",
    "Denne operatoren benyttes på samme måte som, for eksempel, print, ved å benytte paranteser. <br>\n",
    "not-operatoren er også mer eller mindre motsatt en de andre logiske operatorene, ettersom at den returnerer True hvis betingelsen(e) testet IKKE er oppfylt:"
   ]
  },
  {
   "cell_type": "code",
   "execution_count": 2,
   "metadata": {},
   "outputs": [
    {
     "data": {
      "text/plain": [
       "True"
      ]
     },
     "execution_count": 2,
     "metadata": {},
     "output_type": "execute_result"
    }
   ],
   "source": [
    "not(False)"
   ]
  },
  {
   "cell_type": "markdown",
   "metadata": {},
   "source": [
    "Denne operatoren kan dermed tenkes på som at den inverter resultatet av betingelsen.\n",
    "\n",
    "I det følgende eksemplet kan vi se at siden betingelsen ikke er oppfylt, returnerer not-operatoren True"
   ]
  },
  {
   "cell_type": "code",
   "execution_count": 6,
   "metadata": {},
   "outputs": [
    {
     "name": "stdout",
     "output_type": "stream",
     "text": [
      "True\n"
     ]
    }
   ],
   "source": [
    "number = 3\n",
    "print(not(number != 3))"
   ]
  },
  {
   "cell_type": "markdown",
   "metadata": {},
   "source": [
    "Det samme vil gjelde ved bruk at logiske operatorer:"
   ]
  },
  {
   "cell_type": "code",
   "execution_count": 4,
   "metadata": {},
   "outputs": [
    {
     "name": "stdout",
     "output_type": "stream",
     "text": [
      "True\n"
     ]
    }
   ],
   "source": [
    "number = 10\n",
    "print(not(number > 1 and number < 5))"
   ]
  },
  {
   "cell_type": "markdown",
   "metadata": {},
   "source": [
    "Hvis den testede betingelsen er oppfylt, altså at den returnerer True, vil not-operatoren i returnere False:"
   ]
  },
  {
   "cell_type": "code",
   "execution_count": 7,
   "metadata": {},
   "outputs": [
    {
     "name": "stdout",
     "output_type": "stream",
     "text": [
      "False\n"
     ]
    }
   ],
   "source": [
    "number = 3\n",
    "print(not(number == 3))"
   ]
  },
  {
   "cell_type": "markdown",
   "metadata": {},
   "source": [
    "## Sammenlignings- og logiske operatorer med if-tester"
   ]
  },
  {
   "cell_type": "markdown",
   "metadata": {},
   "source": [
    "Sammenlignings- og logiske operatorer er hovedsagelig benyttet i forbindelse med if-tester. <br>\n",
    "I samhold med if-tester benyttes disse operatorene på samme måte som i eksemplene over med følgende format:\n",
    "\n",
    "if (eller elif) \\<betingelse ved bruk av operator(er)\\>:\\[eksplisitt semikolon\\]\n",
    "\n",
    "Dette er eksemplifisert under:"
   ]
  },
  {
   "cell_type": "code",
   "execution_count": 1,
   "metadata": {},
   "outputs": [
    {
     "name": "stdout",
     "output_type": "stream",
     "text": [
      "The conditions are fulfilled.\n"
     ]
    }
   ],
   "source": [
    "number = 8\n",
    "if number > 5 and number < 10:\n",
    "    print(\"The conditions are fulfilled.\")"
   ]
  },
  {
   "cell_type": "code",
   "execution_count": null,
   "metadata": {},
   "outputs": [],
   "source": []
  }
 ],
 "metadata": {
  "kernelspec": {
   "display_name": "Python 3",
   "language": "python",
   "name": "python3"
  },
  "language_info": {
   "codemirror_mode": {
    "name": "ipython",
    "version": 3
   },
   "file_extension": ".py",
   "mimetype": "text/x-python",
   "name": "python",
   "nbconvert_exporter": "python",
   "pygments_lexer": "ipython3",
   "version": "3.8.6"
  }
 },
 "nbformat": 4,
 "nbformat_minor": 4
}
