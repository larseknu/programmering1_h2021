{
 "cells": [
  {
   "cell_type": "markdown",
   "metadata": {},
   "source": [
    "# Variabler"
   ]
  },
  {
   "cell_type": "markdown",
   "metadata": {},
   "source": [
    "## Hva er en variabel konseptuelt?"
   ]
  },
  {
   "cell_type": "markdown",
   "metadata": {},
   "source": [
    "En variabel i programmering kan konseptuelt tenkes på som noe som \"holder\" på en verdi/data. <br>\n",
    "\n",
    "For eksempel; I virkeligheten, kan vi legge en gjenstand i en skuff, og vi kan senere benytte skuffen for å få tak i gjenstanden. <br>\n",
    "Sammenlignet: I programmering, kan vi \"legge\" en verdi i en variabel og benytte variablen for å få tak i verdien senere.\n",
    "\n",
    "En annen og mer direkte måte å tenke på variabler som, er \"labels\" eller \"referanser\" til verdier. <br>\n",
    "Det vil si at variabelen, når benyttet i et program, er det samme som å benytte verdien variablen holder på/refererer til. "
   ]
  },
  {
   "cell_type": "markdown",
   "metadata": {},
   "source": [
    "## Hvordan å opprette en variabel"
   ]
  },
  {
   "cell_type": "markdown",
   "metadata": {},
   "source": [
    "Variabler opprettes på denne måten:"
   ]
  },
  {
   "cell_type": "code",
   "execution_count": 2,
   "metadata": {},
   "outputs": [],
   "source": [
    "variable = 1"
   ]
  },
  {
   "cell_type": "markdown",
   "metadata": {},
   "source": [
    "Variabelnavnet er her \"variable\", og vi sier at den \"blir satt til å være\" (dette er hva \"=\" betyr) verdien, 1. \n",
    "\n",
    "Hvis vi ønsker å få tak i denne verdien kan vi dermed bare benytte variabelen. <br>\n",
    "Dette er eksemplifisert under hvor vi oppretter variabelen på samme måte som over og skriver den ut (outputen er rett under cellen):"
   ]
  },
  {
   "cell_type": "code",
   "execution_count": 6,
   "metadata": {},
   "outputs": [
    {
     "name": "stdout",
     "output_type": "stream",
     "text": [
      "1\n"
     ]
    }
   ],
   "source": [
    "variable = 1\n",
    "print(variable)"
   ]
  },
  {
   "cell_type": "markdown",
   "metadata": {},
   "source": [
    "Med dette kan vi se at variabelen, navngitt \"variable\", oppfattes av python som verdien, 1."
   ]
  },
  {
   "cell_type": "markdown",
   "metadata": {},
   "source": [
    "### Navngivning av variabler\n",
    "Merk at variabelnavnet oftest kan være hva som helst. <br>\n",
    "Det er likevel noen unntak i tilfeller hvor variabelnavnet er reservert til noe annet i programmeringspråket. F.eks. \"print\", som betyr at man skal skrive ut noe.\n",
    "\n",
    "For å gi et eksempel, kan vi se at begge de følgende variablene er gyldige:"
   ]
  },
  {
   "cell_type": "code",
   "execution_count": 21,
   "metadata": {},
   "outputs": [
    {
     "name": "stdout",
     "output_type": "stream",
     "text": [
      "number:  21\n",
      "jkfldsl:  21\n"
     ]
    }
   ],
   "source": [
    "number = 21\n",
    "jkfldsl = 21\n",
    "\n",
    "print(\"number: \", number)\n",
    "print(\"jkfldsl: \", jkfldsl)"
   ]
  },
  {
   "cell_type": "markdown",
   "metadata": {},
   "source": [
    "Det er likevel sterkt anbefalt å benytte variabelnavn som er relativt forståelige, slik at du som programmerer eller andre som skal lese koden din får et inntrykk av hva variablen skal benyttest til.\n",
    "\n",
    "Det finnes også konvensjoner for variabelnavn. <br>\n",
    "Disse varierer mellom programmeringsspråk, men i python, er disse vanlige:\n",
    "* Bare benytt lowercase (ingen store bokstaver i variabelnavn)\n",
    "* Hvis du har behov for å bryte opp variabelnavnet, benytt _ (\"underscore\")\n",
    "\n",
    "For eksempel:"
   ]
  },
  {
   "cell_type": "code",
   "execution_count": 11,
   "metadata": {},
   "outputs": [],
   "source": [
    "example_variable = 9"
   ]
  },
  {
   "cell_type": "markdown",
   "metadata": {},
   "source": [
    "Mellomrom i varabelnavn er forøvrig ikke mulig, og gir en syntaks-error:"
   ]
  },
  {
   "cell_type": "code",
   "execution_count": 12,
   "metadata": {},
   "outputs": [
    {
     "ename": "SyntaxError",
     "evalue": "invalid syntax (<ipython-input-12-01e8ca1a6edc>, line 1)",
     "output_type": "error",
     "traceback": [
      "\u001b[1;36m  File \u001b[1;32m\"<ipython-input-12-01e8ca1a6edc>\"\u001b[1;36m, line \u001b[1;32m1\u001b[0m\n\u001b[1;33m    example variable = 9\u001b[0m\n\u001b[1;37m            ^\u001b[0m\n\u001b[1;31mSyntaxError\u001b[0m\u001b[1;31m:\u001b[0m invalid syntax\n"
     ]
    }
   ],
   "source": [
    "example variable = 9"
   ]
  },
  {
   "cell_type": "markdown",
   "metadata": {},
   "source": [
    "### Gjenbruk og overskrivning av variabler\n",
    "Det er også viktig å bemerke seg at variabler kan både gjenbrukes og overskrives. <br>\n",
    "\n",
    "For eksempel kan vi skrive ut den samme variabelen flere ganger:"
   ]
  },
  {
   "cell_type": "code",
   "execution_count": 1,
   "metadata": {},
   "outputs": [
    {
     "name": "stdout",
     "output_type": "stream",
     "text": [
      "342\n",
      "342\n"
     ]
    }
   ],
   "source": [
    "number = 342\n",
    "print(number)\n",
    "print(number)"
   ]
  },
  {
   "cell_type": "markdown",
   "metadata": {},
   "source": [
    "Vi kan også overskrive verdien en variabel holder på/referer til:"
   ]
  },
  {
   "cell_type": "code",
   "execution_count": 4,
   "metadata": {},
   "outputs": [
    {
     "name": "stdout",
     "output_type": "stream",
     "text": [
      "First print of number:  342\n",
      "Second print of number:  16\n"
     ]
    }
   ],
   "source": [
    "number = 342\n",
    "print(\"First print of number: \", number)\n",
    "number = 16\n",
    "print(\"Second print of number: \", number)"
   ]
  },
  {
   "cell_type": "markdown",
   "metadata": {},
   "source": [
    "Vi kan her se at første gang vi skriver ut variabelen, \"number\", er den tilhørende verdien 342, mens andre gang, er \"number\"-variabelen blit overskrevet til å være verdien 16."
   ]
  },
  {
   "cell_type": "markdown",
   "metadata": {},
   "source": [
    "## Datatyper"
   ]
  },
  {
   "cell_type": "markdown",
   "metadata": {},
   "source": [
    "Verdier en variabel kan holde på kan være av forskjellige typer. <br>\n",
    "Forskjellige typer verdier omtales oftest som Datatyper. \n",
    "\n",
    "Det er i utgangspunktet mange forskjellige datatyper, men disse er noen de mest vanlige:\n",
    "* **int** (kort for Integer)\n",
    "    * Positive og negative heltall\n",
    "* **float** (ofte synonymt med double i andre språk)\n",
    "    * Positive og negative tall med desimaler\n",
    "* **bool** (kort for Boolean)\n",
    "    * Dette er en binær verdi som kan bare være True eller False.\n",
    "* **string**\n",
    "    * Tekststrenger - Sekvens av symboler\n",
    "    \n",
    "I python er typen verdier en variabel holder på implisitt, altså at python forstår dette automatisk basert på verdien en variabel blir satt til å være. <br>\n",
    "Dette er på en annen side ikke nødvendigvis tilfellet i andre programmeringsspråk, hvor variabler ofte må defineres til å være av en spesifikk datatype. <br>\n",
    "Det er derfor viktig at du benytter litt tid til å oppnå en forståelse av forskjellen på disse datatypene. \n",
    "\n",
    "De følgende eksemplene viser forskjellen på int, float, bool og string."
   ]
  },
  {
   "cell_type": "markdown",
   "metadata": {},
   "source": [
    "### int"
   ]
  },
  {
   "cell_type": "markdown",
   "metadata": {},
   "source": [
    "Verdier av datatypen int omfatter positive og negative heltall.\n",
    "\n",
    "Eksempel på en positiv int:"
   ]
  },
  {
   "cell_type": "code",
   "execution_count": 12,
   "metadata": {},
   "outputs": [
    {
     "name": "stdout",
     "output_type": "stream",
     "text": [
      "123456432\n"
     ]
    }
   ],
   "source": [
    "int_variable = 123456432\n",
    "print(int_variable)"
   ]
  },
  {
   "cell_type": "markdown",
   "metadata": {},
   "source": [
    "Eksempel på en negativ int:"
   ]
  },
  {
   "cell_type": "code",
   "execution_count": 19,
   "metadata": {},
   "outputs": [
    {
     "name": "stdout",
     "output_type": "stream",
     "text": [
      "-43\n"
     ]
    }
   ],
   "source": [
    "int_variable = -43\n",
    "print(int_variable)"
   ]
  },
  {
   "cell_type": "markdown",
   "metadata": {},
   "source": [
    "### float"
   ]
  },
  {
   "cell_type": "markdown",
   "metadata": {},
   "source": [
    "Verdier av datatypen float omfatter positive og negative desimaltall.\n",
    "\n",
    "Eksempel på en positiv float:"
   ]
  },
  {
   "cell_type": "code",
   "execution_count": 13,
   "metadata": {},
   "outputs": [
    {
     "name": "stdout",
     "output_type": "stream",
     "text": [
      "24.7882\n"
     ]
    }
   ],
   "source": [
    "float_variable = 24.7882\n",
    "print(float_variable)"
   ]
  },
  {
   "cell_type": "markdown",
   "metadata": {},
   "source": [
    "Eksempel på en negativ float:"
   ]
  },
  {
   "cell_type": "code",
   "execution_count": 20,
   "metadata": {},
   "outputs": [
    {
     "name": "stdout",
     "output_type": "stream",
     "text": [
      "-1.99992\n"
     ]
    }
   ],
   "source": [
    "float_variable = -1.99992\n",
    "print(float_variable)"
   ]
  },
  {
   "cell_type": "markdown",
   "metadata": {},
   "source": [
    "### bool"
   ]
  },
  {
   "cell_type": "markdown",
   "metadata": {},
   "source": [
    "Verdier av datatypen bool er enten True eller False, det er ingenting i mellom.\n",
    "\n",
    "Eksempel på True bool-verdi."
   ]
  },
  {
   "cell_type": "code",
   "execution_count": 5,
   "metadata": {},
   "outputs": [
    {
     "name": "stdout",
     "output_type": "stream",
     "text": [
      "True\n"
     ]
    }
   ],
   "source": [
    "bool_variable_true = True\n",
    "print(bool_variable_true)"
   ]
  },
  {
   "cell_type": "markdown",
   "metadata": {},
   "source": [
    "Eksempel på en False bool-verdi."
   ]
  },
  {
   "cell_type": "code",
   "execution_count": 6,
   "metadata": {},
   "outputs": [
    {
     "name": "stdout",
     "output_type": "stream",
     "text": [
      "False\n"
     ]
    }
   ],
   "source": [
    "bool_variable_false = False\n",
    "print(bool_variable_false)"
   ]
  },
  {
   "cell_type": "markdown",
   "metadata": {},
   "source": [
    "### string"
   ]
  },
  {
   "cell_type": "markdown",
   "metadata": {},
   "source": [
    "Verdier av datatypen string er en sekvens av symboler, og spesifiseres ved å omfatte symbolene med \":"
   ]
  },
  {
   "cell_type": "code",
   "execution_count": 18,
   "metadata": {},
   "outputs": [
    {
     "name": "stdout",
     "output_type": "stream",
     "text": [
      "Vilkårlig tekst.\n"
     ]
    }
   ],
   "source": [
    "string_variable = \"Vilkårlig tekst.\"\n",
    "print(string_variable)"
   ]
  },
  {
   "cell_type": "markdown",
   "metadata": {},
   "source": [
    "### Konvertering mellom datatyper"
   ]
  },
  {
   "cell_type": "markdown",
   "metadata": {},
   "source": [
    "For enkelte av datatypene er det mulig å konvertere fra en type til en annen.\n",
    "\n",
    "For eksempel, kan vi konvertere fra int til float ved å benytte float():"
   ]
  },
  {
   "cell_type": "code",
   "execution_count": 16,
   "metadata": {},
   "outputs": [
    {
     "name": "stdout",
     "output_type": "stream",
     "text": [
      "123456432.0\n"
     ]
    }
   ],
   "source": [
    "int_variable = 123456432\n",
    "int_variable_to_float = float(int_variable)\n",
    "\n",
    "print(int_variable_to_float)"
   ]
  },
  {
   "cell_type": "markdown",
   "metadata": {},
   "source": [
    "Vi kan også gjøre det motsatte og konvertere fra float til int:"
   ]
  },
  {
   "cell_type": "code",
   "execution_count": 17,
   "metadata": {},
   "outputs": [
    {
     "name": "stdout",
     "output_type": "stream",
     "text": [
      "24\n"
     ]
    }
   ],
   "source": [
    "float_variable = 24.7882\n",
    "float_variable_to_int = int(float_variable)\n",
    "\n",
    "print(float_variable_to_int)"
   ]
  },
  {
   "cell_type": "markdown",
   "metadata": {},
   "source": [
    "## Hvorfor er variabler viktige?"
   ]
  },
  {
   "cell_type": "markdown",
   "metadata": {},
   "source": [
    "Ikke vær bekymret hvis du synes dette er litt vanskelig. <br>\n",
    "Det er ikke helt openbart hva poenget med variabler er i programmering før vi kommer litt dypere inn i emnet. <br>\n",
    "Men for å gi en ide om hvor viktige variabler er i programmering kan vi gjøre noen konseptuelle sammenligninger.\n",
    "\n",
    "Formålet med programmering er generelt å få en datamaskin til å utføre en eller flere oppgaver. <br>\n",
    "Mye av programmering handler dermed om hvordan å fortelle en datamaskin hva den skal gjøre. <br>\n",
    "Dette er en stor grunn til at vi omtaler python (og Java, C++, C#, Kotlin osv.) som \"programmeringsspråk\" <br>\n",
    "Det vi gjør er praktisk sett å kommunisere instrukser til datamaskiner. \n",
    "\n",
    "I denne konseptuelle sammenhengen kan bruken av variabler i programmering sammenlignes med bruken av ord i menneskelig kommunikasjon. <br>\n",
    "Alle menneskelig språk er bygd på benytte ord, som hver har en spesifikk *mening*, og vi kan *sette dem sammen* på forskjellige måter for å kommunisere større, mer abstrakte meninger. <br>\n",
    "Sammenlignet, er programmering i de aller fleste tilfeller bygd på å benytte variabler med definerte *verdier* som vi kan *manipulere* på forskjellige måter for å få datamaskiner til å utføre større, mer komplekse oppgaver. <br>\n",
    "Dermed, som ord i menneskelige språk er helt fundamentale for for kommunikasjon, er variabler helt fundamentale for programmering. <br>\n",
    "Resten av temaene vi vil gå gjennom i dette kurset vil derfor i stor grad omhandle forskjellige teknikker for hvordan variabler kan benyttes og manipuleres.\n",
    "\n",
    "Vær likevel opmerksom på at denne konseptuelle sammenligningen er ment for å gi en ide om hvor fundamentalt viktige variabler er i programmering, ikke beskrive nøyaktig hvordan de brukes. <br>\n",
    "Hvordan mennesker kommuniserer (med ord og setninger) er helt annerledes fra hvordan programkode kommuniserer oppgaver til datamaskiner."
   ]
  },
  {
   "cell_type": "code",
   "execution_count": null,
   "metadata": {},
   "outputs": [],
   "source": []
  }
 ],
 "metadata": {
  "kernelspec": {
   "display_name": "Python 3",
   "language": "python",
   "name": "python3"
  },
  "language_info": {
   "codemirror_mode": {
    "name": "ipython",
    "version": 3
   },
   "file_extension": ".py",
   "mimetype": "text/x-python",
   "name": "python",
   "nbconvert_exporter": "python",
   "pygments_lexer": "ipython3",
   "version": "3.8.6"
  }
 },
 "nbformat": 4,
 "nbformat_minor": 4
}
