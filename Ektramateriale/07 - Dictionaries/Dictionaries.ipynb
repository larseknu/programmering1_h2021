{
 "cells": [
  {
   "cell_type": "markdown",
   "metadata": {},
   "source": [
    "# Dictionaries"
   ]
  },
  {
   "cell_type": "markdown",
   "metadata": {},
   "source": [
    "I vanlige lister får hver inneholdt verdi automatisk tildelt en index basert på dens posisjon i listen. <br>\n",
    "Dette kan være helt greit mange tilfeller, men basert på hva vi ønsker innholdet av listen, eller listen i seg selv, skal representere, kan slike indexer være uoversiktlige i forhold til verdiene de er knyttet til. <br>\n",
    "Et eksempel på dette kan være hvis vi ønkser at en liste skal holde på forskjellige data om en spesifikk person:"
   ]
  },
  {
   "cell_type": "code",
   "execution_count": 18,
   "metadata": {},
   "outputs": [
    {
     "name": "stdout",
     "output_type": "stream",
     "text": [
      "['Ola Normann', 31, 176.5, True]\n"
     ]
    }
   ],
   "source": [
    "person_data = [\"Ola Normann\", 31, 176.5, True]\n",
    "print(person_data)"
   ]
  },
  {
   "cell_type": "markdown",
   "metadata": {},
   "source": [
    "I dette tilfellet er det relativt vanskelig å tyde fra listen i seg selv hva hvert av listeelementene faktisk representerer i forhold personen. <br>\n",
    "Hvis vi skulle gjort dette mer tydelig, kunne vi for eksempel laget en ekstra liste som holder på hva hver index representerer og benyttet denne for å hente ut elementer:"
   ]
  },
  {
   "cell_type": "code",
   "execution_count": 20,
   "metadata": {},
   "outputs": [
    {
     "name": "stdout",
     "output_type": "stream",
     "text": [
      "31\n"
     ]
    }
   ],
   "source": [
    "person_data_indexes = [\"name\", \"age\", \"height\", \"employed\"]\n",
    "person_data = [\"Ola Normann\", 31, 176.5, True]\n",
    "print(person_data[person_data_indexes.index(\"age\")])"
   ]
  },
  {
   "cell_type": "markdown",
   "metadata": {},
   "source": [
    "Dette er på en annen side veldig tungvint. <br>\n",
    "Det krever også at indexene for elementene i oversikts-listen og i innholdslisten må stemme fulstending overens, som kan potensielt være vanskelig å forsikre seg om, basert på den gitte konteksten slike lister skal benyttes.\n",
    "\n",
    "I slike tilfeller kan vi i stedet benytte en annen liste-aktig datatype i python, kalt dictionaries. <br>\n",
    "Dictionaries fungerer mye likt som vanlige lister, men i stedet for automatisk tildelte indexer basert på posisjon, tilegner programmereren eksplisitt en tilhørende *nøkkel* for hvert element i dictionarien. <br>\n",
    "Under er et eksempel hvor vi benytter en dictionary for å holde på dataene om en spesifikk person:"
   ]
  },
  {
   "cell_type": "code",
   "execution_count": 21,
   "metadata": {},
   "outputs": [
    {
     "name": "stdout",
     "output_type": "stream",
     "text": [
      "{'name': 'Ola Normann', 'age': 31, 'height': 176.5, 'employed': True}\n"
     ]
    }
   ],
   "source": [
    "person_data = {\"name\": \"Ola Normann\", \"age\": 31, \"height\": 176.5, \"employed\": True}\n",
    "print(person_data)"
   ]
  },
  {
   "cell_type": "markdown",
   "metadata": {},
   "source": [
    "Her er det en del å bemerke. <br>\n",
    "For eksempel kan vi se at i motsetning til vanlige lister hvor vi benytter \\[\\], eller med tupler hvor vi benytter (), benytter vi {} for å opprette dictionaries. <br>\n",
    "Hvert definert element i dictionaries er, som ved andre listetyper, separert ved komma, men krever også at vi både spesifiserer elementets nøkkel og verdi. <br>\n",
    "Dette blir gjort med følgende format:\n",
    "    \n",
    "    <nøkkel>: <verdi>\n",
    "    \n",
    "Både nøkkelen og verdien for et gitt dictionaryelement kan være av hvilken som helt type data, men det er typisk at nøkkelen er en beskrivende tekststreng (typisk lower case). <br>\n",
    "Vi kan spesifisere så mange dictionaryelementer som vi måtte ønske på denne måten, men noe å være obs på er at alle elementer må ha en unik nøkkel. <br>\n",
    "Hvis vi forsøker å definere mer enn ett element med samme nøkkel, vil dictionarien bare registrere det siste elementet med denne nøkkelen:"
   ]
  },
  {
   "cell_type": "code",
   "execution_count": 22,
   "metadata": {},
   "outputs": [
    {
     "name": "stdout",
     "output_type": "stream",
     "text": [
      "{'name': 'John Doe', 'age': 31, 'height': 176.5, 'employed': True}\n"
     ]
    }
   ],
   "source": [
    "person_data = {\"name\": \"Ola Normann\", \"age\": 31, \"height\": 176.5, \"employed\": True, \"name\": \"John Doe\"}\n",
    "print(person_data)"
   ]
  },
  {
   "cell_type": "markdown",
   "metadata": {},
   "source": [
    "Noe annet å bemerke seg er at vi ikke må definere elementene i en dictionary på èn linje. <br>\n",
    "Vi kan for eksempel formatere dictionarydefinisjonen på følgedne måte, som gjør innholdet lettere å lese (dette kan forsåvidt også gjøres med andre listetyper):"
   ]
  },
  {
   "cell_type": "code",
   "execution_count": 16,
   "metadata": {},
   "outputs": [
    {
     "name": "stdout",
     "output_type": "stream",
     "text": [
      "{'name': 'Ola Normann', 'age': 31, 'height': 176.5, 'employed': True}\n"
     ]
    }
   ],
   "source": [
    "person_data = {\n",
    "    \"name\": \"Ola Normann\", \n",
    "    \"age\": 31, \n",
    "    \"height\": 176.5, \n",
    "    \"employed\": True\n",
    "}\n",
    "\n",
    "print(person_data)"
   ]
  },
  {
   "cell_type": "markdown",
   "metadata": {},
   "source": [
    "## Referere til elementer\n",
    "\n",
    "Ettersom at vi eksplisitt har definert nøklene for hver verdi i dictionarien, kan vi dermed også benytte disse nøklene til refere til de tilsvarende verdiene.\n",
    "Dette gjøres omtrendlig likt som ved lister og tupler, men i stedet for en index, benytter simpelthen nøkkelen til verdien vi ønsker å refere til:"
   ]
  },
  {
   "cell_type": "code",
   "execution_count": 23,
   "metadata": {},
   "outputs": [
    {
     "name": "stdout",
     "output_type": "stream",
     "text": [
      "176.5\n"
     ]
    }
   ],
   "source": [
    "person_data = {\n",
    "    \"name\": \"Ola Normann\", \n",
    "    \"age\": 31, \n",
    "    \"height\": 176.5, \n",
    "    \"employed\": True\n",
    "}\n",
    "\n",
    "print(person_data[\"height\"])"
   ]
  },
  {
   "cell_type": "markdown",
   "metadata": {},
   "source": [
    "Et problem som kan oppstå er likevel at vi forsøker å hente ut verdien for en nøkkel som ikke er definert i dictionarien. <br>\n",
    "I dette tilfellet vil vi få en error:"
   ]
  },
  {
   "cell_type": "code",
   "execution_count": 28,
   "metadata": {},
   "outputs": [
    {
     "ename": "KeyError",
     "evalue": "'eye_color'",
     "output_type": "error",
     "traceback": [
      "\u001b[1;31m---------------------------------------------------------------------------\u001b[0m",
      "\u001b[1;31mKeyError\u001b[0m                                  Traceback (most recent call last)",
      "\u001b[1;32m<ipython-input-28-76233fdbc8b6>\u001b[0m in \u001b[0;36m<module>\u001b[1;34m\u001b[0m\n\u001b[0;32m      6\u001b[0m }\n\u001b[0;32m      7\u001b[0m \u001b[1;33m\u001b[0m\u001b[0m\n\u001b[1;32m----> 8\u001b[1;33m \u001b[0mprint\u001b[0m\u001b[1;33m(\u001b[0m\u001b[0mperson_data\u001b[0m\u001b[1;33m[\u001b[0m\u001b[1;34m\"eye_color\"\u001b[0m\u001b[1;33m]\u001b[0m\u001b[1;33m)\u001b[0m\u001b[1;33m\u001b[0m\u001b[1;33m\u001b[0m\u001b[0m\n\u001b[0m",
      "\u001b[1;31mKeyError\u001b[0m: 'eye_color'"
     ]
    }
   ],
   "source": [
    "person_data = {\n",
    "    \"name\": \"Ola Normann\", \n",
    "    \"age\": 31, \n",
    "    \"height\": 176.5, \n",
    "    \"employed\": True\n",
    "}\n",
    "\n",
    "print(person_data[\"eye_color\"])"
   ]
  },
  {
   "cell_type": "markdown",
   "metadata": {},
   "source": [
    "For å håndtere dette på en enkel måte kan vi isteded benytte metoden, .get(), for å hente ut verdier. <br>\n",
    "Denne metoden vil automatisk håndtere tilfeller hvor den spesifiserte nøkkelen ikke finnes i dictionarien:"
   ]
  },
  {
   "cell_type": "code",
   "execution_count": 19,
   "metadata": {},
   "outputs": [
    {
     "name": "stdout",
     "output_type": "stream",
     "text": [
      "Nøkkelen finnes: 176.5\n",
      "Nøkkelen finnes ikke: None\n"
     ]
    }
   ],
   "source": [
    "person_data = {\n",
    "    \"name\": \"Ola Normann\", \n",
    "    \"age\": 31, \n",
    "    \"height\": 176.5, \n",
    "    \"employed\": True\n",
    "}\n",
    "\n",
    "print(f'Nøkkelen finnes: {person_data.get(\"height\")}')\n",
    "\n",
    "print(f'Nøkkelen finnes ikke: {person_data.get(\"eye_color\")}')"
   ]
  },
  {
   "cell_type": "markdown",
   "metadata": {},
   "source": [
    "Som standard, vil .get() returnere None, men vi kan også eksplisitt spesifisere hva som skal returneres med en sekundær parameter på følgende måte:"
   ]
  },
  {
   "cell_type": "code",
   "execution_count": 30,
   "metadata": {},
   "outputs": [
    {
     "name": "stdout",
     "output_type": "stream",
     "text": [
      "Key not found!\n"
     ]
    }
   ],
   "source": [
    "person_data = {\n",
    "    \"name\": \"Ola Normann\", \n",
    "    \"age\": 31, \n",
    "    \"height\": 176.5, \n",
    "    \"employed\": True\n",
    "}\n",
    "\n",
    "print(person_data.get(\"eye_color\", \"Key not found!\"))"
   ]
  },
  {
   "cell_type": "markdown",
   "metadata": {},
   "source": [
    "Ettersom .get() er tryggere å bruke enn den vanlige måten å refere til elementer, kan det være anbefalt å hovedsakelig benytte denne metoden i slike tilfeller."
   ]
  },
  {
   "cell_type": "markdown",
   "metadata": {},
   "source": [
    "## Oppdatere eksisterende elementer\n",
    "Hvis vi ønkser å oppdatere kan vi gjøre dette ganske likt som ved vanlige lister ved at vi referer til et element ved bruk av \\<dictionary navn\\>\\[<nøkkel>\\] og oppdatere denne nøkkelen til å tilhøre en ny verdi, ved bruk av =. <br>\n",
    "I dette eksemplet under oppdaterer vi personens navn til å være John Doe:"
   ]
  },
  {
   "cell_type": "code",
   "execution_count": 20,
   "metadata": {},
   "outputs": [
    {
     "name": "stdout",
     "output_type": "stream",
     "text": [
      "John Doe\n"
     ]
    }
   ],
   "source": [
    "person_data = {\n",
    "    \"name\": \"Ola Normann\", \n",
    "    \"age\": 31, \n",
    "    \"height\": 176.5, \n",
    "    \"employed\": True\n",
    "}\n",
    "\n",
    "person_data[\"name\"] = \"John Doe\"\n",
    "\n",
    "print(person_data.get(\"name\"))"
   ]
  },
  {
   "cell_type": "markdown",
   "metadata": {},
   "source": [
    "## Legge til nye elementer\n",
    "\n",
    "Hvis vi ønsker å legge til nye elementer i en eksisterende dictionary kan vi gjøre dette på nesten akkurat samme måte som når vi oppdaterer et eksisterende element. <br>\n",
    "Det eneste vi må passe på er at nøkkelen vi spesifiserer innen \\[\\] ikke allerede eksister i dictionarien:"
   ]
  },
  {
   "cell_type": "code",
   "execution_count": 32,
   "metadata": {},
   "outputs": [
    {
     "name": "stdout",
     "output_type": "stream",
     "text": [
      "Dictionary before: {'name': 'Ola Normann', 'age': 31, 'height': 176.5, 'employed': True}\n",
      "Dictionary after: {'name': 'Ola Normann', 'age': 31, 'height': 176.5, 'employed': True, 'eye_color': 'Blue'}\n"
     ]
    }
   ],
   "source": [
    "person_data = {\n",
    "    \"name\": \"Ola Normann\", \n",
    "    \"age\": 31, \n",
    "    \"height\": 176.5, \n",
    "    \"employed\": True\n",
    "}\n",
    "\n",
    "print(f\"Dictionary before: {person_data}\")\n",
    "\n",
    "person_data[\"eye_color\"] = \"Blue\"\n",
    "\n",
    "print(f\"Dictionary after: {person_data}\")"
   ]
  },
  {
   "cell_type": "markdown",
   "metadata": {},
   "source": [
    "Basert på eksemplet over kan vi se at vi har lagt til en ny verdi med nøkkelen, \"eye_color\"."
   ]
  },
  {
   "cell_type": "markdown",
   "metadata": {},
   "source": [
    "## Fjerne elementer\n",
    "\n",
    "Hvis vi ønsker å fjerne spesifikke elementer av en dictionary, kan vi oppnå dette ved bruk at del-kommandoen og refere til elementet vi ønkser å slette (kan ikke benytte .get() i dette tilfellet):"
   ]
  },
  {
   "cell_type": "code",
   "execution_count": 22,
   "metadata": {},
   "outputs": [
    {
     "name": "stdout",
     "output_type": "stream",
     "text": [
      "{'name': 'Ola Normann', 'age': 31, 'height': 176.5}\n"
     ]
    }
   ],
   "source": [
    "person_data = {\n",
    "    \"name\": \"Ola Normann\", \n",
    "    \"age\": 31, \n",
    "    \"height\": 176.5, \n",
    "    \"employed\": True\n",
    "}\n",
    "\n",
    "del person_data[\"employed\"]\n",
    "\n",
    "print(person_data)"
   ]
  },
  {
   "cell_type": "markdown",
   "metadata": {},
   "source": [
    "## Loope gjennom dictionary elementer"
   ]
  },
  {
   "cell_type": "markdown",
   "metadata": {},
   "source": [
    "### Alle elementer (nøkler og verdier)\n",
    "\n",
    "Hvis vi ønsker å loope gjennom alle elementer i en dictionary, altså alle par av nøkler og verdier, kan vi gjøre dette ved å benytte metoden, .items(), som returnerer en liste med tupler, hvor hver tupel inneholder en key og en verdi. <br>\n",
    "For hver iterasjon må vi derfor opprette en loop-variabel for nøkkelen (den første) og en for verdien (den andre):"
   ]
  },
  {
   "cell_type": "code",
   "execution_count": 3,
   "metadata": {},
   "outputs": [
    {
     "name": "stdout",
     "output_type": "stream",
     "text": [
      "Key: name, Value: Ola Normann\n",
      "Key: age, Value: 31\n",
      "Key: height, Value: 176.5\n",
      "Key: employed, Value: True\n"
     ]
    }
   ],
   "source": [
    "person_data = {\n",
    "    \"name\": \"Ola Normann\", \n",
    "    \"age\": 31, \n",
    "    \"height\": 176.5, \n",
    "    \"employed\": True\n",
    "}\n",
    "\n",
    "for key, value in person_data.items():\n",
    "    print(f\"Key: {key}, Value: {value}\")"
   ]
  },
  {
   "cell_type": "markdown",
   "metadata": {},
   "source": [
    "### Alle nøkler\n",
    "\n",
    "Hvis vi ønsker å bare loope gjennom samtlige nøkler i en dictionary, kan vi gjøre dette ved bruk av metoden, .keys():"
   ]
  },
  {
   "cell_type": "code",
   "execution_count": 6,
   "metadata": {},
   "outputs": [
    {
     "name": "stdout",
     "output_type": "stream",
     "text": [
      "name\n",
      "age\n",
      "height\n",
      "employed\n"
     ]
    }
   ],
   "source": [
    "person_data = {\n",
    "    \"name\": \"Ola Normann\", \n",
    "    \"age\": 31, \n",
    "    \"height\": 176.5, \n",
    "    \"employed\": True\n",
    "}\n",
    "\n",
    "for key in person_data.keys():\n",
    "    print(key)"
   ]
  },
  {
   "cell_type": "markdown",
   "metadata": {},
   "source": [
    ".keys() er også standard metoden for looping hvis vi bare spesifiserer dictionarien vi ønsker å loope gjennom. <br>\n",
    "Å benytte .keys() er derfor valgfritt, som vist i eksemplet under, men kan likevel være fordelaktig å eksplisitt spesifisere for lesbarhets skyld:"
   ]
  },
  {
   "cell_type": "code",
   "execution_count": 7,
   "metadata": {},
   "outputs": [
    {
     "name": "stdout",
     "output_type": "stream",
     "text": [
      "name\n",
      "age\n",
      "height\n",
      "employed\n"
     ]
    }
   ],
   "source": [
    "person_data = {\n",
    "    \"name\": \"Ola Normann\", \n",
    "    \"age\": 31, \n",
    "    \"height\": 176.5, \n",
    "    \"employed\": True\n",
    "}\n",
    "\n",
    "for key in person_data:\n",
    "    print(key)"
   ]
  },
  {
   "cell_type": "markdown",
   "metadata": {},
   "source": [
    "Hvis vi ønsker å gå gjennom nøklene i en spesifikk rekkefølge kan vi til en viss grad kontrollere dette ved bruk av sorteringsfunksjoner, slik som sorted():"
   ]
  },
  {
   "cell_type": "code",
   "execution_count": 12,
   "metadata": {},
   "outputs": [
    {
     "name": "stdout",
     "output_type": "stream",
     "text": [
      "age\n",
      "employed\n",
      "height\n",
      "name\n"
     ]
    }
   ],
   "source": [
    "person_data = {\n",
    "    \"name\": \"Ola Normann\", \n",
    "    \"age\": 31, \n",
    "    \"height\": 176.5, \n",
    "    \"employed\": True\n",
    "}\n",
    "\n",
    "for key in sorted(person_data):\n",
    "    print(key)"
   ]
  },
  {
   "cell_type": "markdown",
   "metadata": {},
   "source": [
    "### Alle verdier\n",
    "\n",
    "Hvis vi bare er interessert i verdiene i en dictionary (praktisk talt likt som når vi looper gjennom en vanlig liste), kan vi gjøre dette ved å benytte metoden, .values():"
   ]
  },
  {
   "cell_type": "code",
   "execution_count": 13,
   "metadata": {},
   "outputs": [
    {
     "name": "stdout",
     "output_type": "stream",
     "text": [
      "Ola Normann\n",
      "31\n",
      "176.5\n",
      "True\n"
     ]
    }
   ],
   "source": [
    "person_data = {\n",
    "    \"name\": \"Ola Normann\", \n",
    "    \"age\": 31, \n",
    "    \"height\": 176.5, \n",
    "    \"employed\": True\n",
    "}\n",
    "\n",
    "for value in person_data.values():\n",
    "    print(value)"
   ]
  },
  {
   "cell_type": "markdown",
   "metadata": {},
   "source": [
    "## Tilfeller det kan være fordelaktig å benytte dictionaries\n",
    "\n"
   ]
  },
  {
   "cell_type": "markdown",
   "metadata": {},
   "source": [
    "Dictionaries har en fordel over andre listetyper ved at vi kan gi hver inneholdt verdi en kontekst ved å spesifisere en tilhørende nøkkel. <br>\n",
    "Dette gjør elementene mer intuitive å tyde og benytte. <br>\n",
    "Dictionaries kan dermed være fordelaktige å benytte i tilfeller hvor vi ønsker å opprette en liste hvor innholdet skal være relativt konseptuelt. <br>\n",
    "Dette kan forekomme i mange forskjellige tilfeller. <br>\n",
    "\n",
    "Et eksempel kan være at vi ønsker å holde en rekke med konseptuell data om èn \"ting\". <br>\n",
    "Dette er godt demonstrert med dictionarien som vi har benyttet i tidligere eksempler, hvor vi holder på forskjellig data om èn person:"
   ]
  },
  {
   "cell_type": "code",
   "execution_count": 15,
   "metadata": {},
   "outputs": [
    {
     "name": "stdout",
     "output_type": "stream",
     "text": [
      "{'name': 'Ola Normann', 'age': 31, 'height': 176.5, 'employed': True}\n"
     ]
    }
   ],
   "source": [
    "person_data = {\n",
    "    \"name\": \"Ola Normann\", \n",
    "    \"age\": 31, \n",
    "    \"height\": 176.5, \n",
    "    \"employed\": True\n",
    "}\n",
    "\n",
    "print(person_data)"
   ]
  },
  {
   "cell_type": "markdown",
   "metadata": {},
   "source": [
    "Et annet eksempel kan være at vi ønkser å holde på mange instanser av samme type data. <br>\n",
    "Dette kan eksemplifiseres ved en dictionary som holder på en gitt persons favorittspill. <br>\n",
    "Dette er demonstrert i eksemplet under hvor vi benytter navnet på en person som nøkkelen og spilltittelen som verdi:"
   ]
  },
  {
   "cell_type": "code",
   "execution_count": 33,
   "metadata": {},
   "outputs": [
    {
     "name": "stdout",
     "output_type": "stream",
     "text": [
      "{'Leon S. Kennedy': 'Resident Evil 4', 'Jane Doe': 'Dark Souls', 'Nathan Drake': \"Uncharted 4: A Thief's End\", 'Kim Kitsuragi': 'Disco Elysium', 'John Doe': 'Dark Souls'}\n"
     ]
    }
   ],
   "source": [
    "favorite_game = {\n",
    "    \"Leon S. Kennedy\": \"Resident Evil 4\",\n",
    "    \"Jane Doe\": \"Dark Souls\",\n",
    "    \"Nathan Drake\": \"Uncharted 4: A Thief's End\",\n",
    "    \"Kim Kitsuragi\": \"Disco Elysium\",\n",
    "    \"John Doe\": \"Dark Souls\"\n",
    "}\n",
    "\n",
    "print(favorite_game)"
   ]
  },
  {
   "cell_type": "markdown",
   "metadata": {},
   "source": [
    "I mange tilfeller kan det også være fornuftig å kombinere de to tidligere eksemplene til en dictionary som holder på flere instanser av samme type data, men hvor denne dataen er uttrykt som en dictionary med sammenknyttet informasjon. <br>\n",
    "Vi får dermed en nestet struktur som er relativt intuitiv å lese. <br>\n",
    "I eksemplet under, benytter vi en persons navn som nøkkel, og en dictionary med resterende data om denne personen (alder, høyde og ansattstatus) som verdi. <br>\n",
    "For å referer til verdier, kan vi dermed først spesifisere nøkkelen for en spesifikk person \n",
    "    \n",
    "    person_data\\[<personnavn-nøkkel>\\] \n",
    "    \n",
    "og deretter spesifisere hvilken informasjon for denne personen vi ønsker å hente ut \n",
    "\n",
    "    person_data\\[<personnavn-nøkkel>\\]\\[<informasjonstype-nøkkel>\\]"
   ]
  },
  {
   "cell_type": "code",
   "execution_count": 16,
   "metadata": {},
   "outputs": [
    {
     "name": "stdout",
     "output_type": "stream",
     "text": [
      "168.8\n"
     ]
    }
   ],
   "source": [
    "person_data = {\n",
    "    \"Ola Normann\": {\n",
    "        \"age\": 31, \n",
    "        \"height\": 176.5, \n",
    "        \"employed\": True\n",
    "    },\n",
    "    \"Kari Normann\": {\n",
    "        \"age\": 24,\n",
    "        \"height\": 168.8,\n",
    "        \"employed\": False\n",
    "    },\n",
    "    \"John Doe\": {\n",
    "        \"age\": 53,\n",
    "        \"height\": 192,\n",
    "        \"employed\": True\n",
    "    }\n",
    "}\n",
    "\n",
    "print(person_data[\"Kari Normann\"][\"height\"])"
   ]
  },
  {
   "cell_type": "markdown",
   "metadata": {},
   "source": [
    "Som et alternativ til forrige eksempel, i stedet for å neste dictionaries inne i en overordnet dictionary, kan vi neste dictionaries inne i en liste. <br>\n",
    "På denne måten kan vi få en liste med persondata, uten å måtte ha en konseptuell identifikator (nøkkel) for hver person, men i stedet benytte posisjonbaserte indexer:"
   ]
  },
  {
   "cell_type": "code",
   "execution_count": 17,
   "metadata": {},
   "outputs": [
    {
     "name": "stdout",
     "output_type": "stream",
     "text": [
      "John Doe\n"
     ]
    }
   ],
   "source": [
    "person_data = [\n",
    "    {\n",
    "        \"name\": \"Ola Normann\",\n",
    "        \"age\": 31, \n",
    "        \"height\": 176.5, \n",
    "        \"employed\": True\n",
    "    },\n",
    "    {\n",
    "        \"name\": \"Kari Normann\",\n",
    "        \"age\": 24,\n",
    "        \"height\": 168.8,\n",
    "        \"employed\": False\n",
    "    },\n",
    "    {\n",
    "        \"name\": \"John Doe\",\n",
    "        \"age\": 53,\n",
    "        \"height\": 192,\n",
    "        \"employed\": True\n",
    "    }\n",
    "]\n",
    "\n",
    "print(person_data[2][\"name\"])"
   ]
  },
  {
   "cell_type": "code",
   "execution_count": null,
   "metadata": {},
   "outputs": [],
   "source": []
  }
 ],
 "metadata": {
  "kernelspec": {
   "display_name": "Python 3",
   "language": "python",
   "name": "python3"
  },
  "language_info": {
   "codemirror_mode": {
    "name": "ipython",
    "version": 3
   },
   "file_extension": ".py",
   "mimetype": "text/x-python",
   "name": "python",
   "nbconvert_exporter": "python",
   "pygments_lexer": "ipython3",
   "version": "3.8.6"
  }
 },
 "nbformat": 4,
 "nbformat_minor": 4
}
