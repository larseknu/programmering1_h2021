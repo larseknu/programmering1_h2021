{
 "cells": [
  {
   "cell_type": "markdown",
   "metadata": {},
   "source": [
    "# Funksjoner"
   ]
  },
  {
   "cell_type": "markdown",
   "metadata": {},
   "source": [
    "Funksjoner benyttes for å samle sett med kodeliner under refererbare navn, og er et konsept som benyttes ekstremt frekvent i stort sett alle former for programmering. <br>\n",
    "Generelt, kan vi si at en funksjon er en type kodeabstraksjon. <br>\n",
    "Kodeabstraksjon omhandler hovedsakelig hvordan vi som programmerere forholder og benytter kode, og betyr generelt at vi gjør \"spesifikk\" kode enklere å benytte. <br>\n",
    "I konteksten av funksjoner, er dette relevant ved at vi kan benytte koden inneholdt i en gitt funksjon så mange steder vi ønsker i programmet vårt ved å simpelthen kalle funksjonsnavnet. <br>\n",
    "Vi unngår dermed å måtte skrive koden på nytt, som hadde tungvint og ført til et program som kan være vanskelig opprettholde/oppdatere.\n",
    "\n",
    "## Grunnleggende prinsipper og syntax\n",
    "\n",
    "Funksjoner, i tillegg til å alltid måtte ha et navn, består av tre komponenter som flyter inn i hverandre:\n",
    "\n",
    "    inputparametere --> kodeinnhold --> returnert verdi\n",
    "    \n",
    "Flyten av disse komponentene er typisk at vi først sender inn en rekke med parametere til funksjonen, funksjonen vil deretter utføre en definert handling (kodesekvens) med, eller basert på, disse inputparameterene, før funksjonen returnerer en verdi basert på denne handlingen. \n",
    "\n",
    "Det følgende er et eksempel på definisjonen av en funksjon"
   ]
  },
  {
   "cell_type": "code",
   "execution_count": 2,
   "metadata": {},
   "outputs": [],
   "source": [
    "def addition(number_1, number_2):\n",
    "    result = number_1 + number_2\n",
    "    return result"
   ]
  },
  {
   "cell_type": "markdown",
   "metadata": {},
   "source": [
    "For å definere en funksjon, må vi først benytte nøkkelordet, *def*, etterfulgt av et selvdefinert navn på funksjonen, i dette tilfellet, *addition*. <br>\n",
    "Etter navnet, må vi benytte et sett med paranteser, som kan inneholde et vilkårlig antall parametere (inkludert ingen parametere).<br>\n",
    "I dette tilfellet har vi definert to parametere; *number_1* og *number_2*.\n",
    "\n",
    "Etter parameterene, må vi inkludere et kolon (:) som spesifiserer at det kommer tilhørende kodelinjer. <br>\n",
    "Utenom at disse kodelinjene må være indenterte, er det ikke noe krav til antall linjer eller hva disse gjør.\n",
    "\n",
    "Til slutt definerer vi hva som skal returneres av funksjonen ved å skrive nøkkelordet, *return*, og spesifisere en verdi. <br>\n",
    "Bemerk likevel at vi ikke faktisk må definere en return-verdi. <br>\n",
    "I dette tilfellet kan vi enten bare skrive *return*, eller fullstending utelate dette nøkkelordet.\n",
    "\n",
    "For å benytte en funksjon, kan vi kalle funksjonen ved å skrive funksjonsnavnet etterfulgt av paranteser inneholdt av en rekke med kommaseparerte verdier som vil bli tilegnet funksjonens definerte parametere basert på posisjon. <br>\n",
    "I eksemplet under kan vi se at addition(3, 2) legger sammen 3 og 2 og returnerer den tilsvarende verdien, 5:"
   ]
  },
  {
   "cell_type": "code",
   "execution_count": 1,
   "metadata": {},
   "outputs": [
    {
     "name": "stdout",
     "output_type": "stream",
     "text": [
      "5\n"
     ]
    }
   ],
   "source": [
    "def addition(number_1, number_2):\n",
    "    result = number_1 + number_2\n",
    "    return result\n",
    "\n",
    "print(addition(3, 2))"
   ]
  },
  {
   "cell_type": "markdown",
   "metadata": {},
   "source": [
    "Som nevnt tidligere, trenger vi faktisk ikke å definere en return-verdi. <br>\n",
    "I eksemplet under har vi definert en annen funksjon, *print_addition*, som skriver ut en representativ streng av addisjonen:"
   ]
  },
  {
   "cell_type": "code",
   "execution_count": 7,
   "metadata": {},
   "outputs": [
    {
     "name": "stdout",
     "output_type": "stream",
     "text": [
      "3 + 2 = 5\n",
      "10 + 20 = 30\n"
     ]
    }
   ],
   "source": [
    "def print_addition(number_1, number_2):\n",
    "    print(f\"{number_1} + {number_2} = {number_1 + number_2}\")\n",
    "\n",
    "print_addition(3, 2)\n",
    "print_addition(10, 20)"
   ]
  },
  {
   "cell_type": "markdown",
   "metadata": {},
   "source": [
    "For å demonstrere at denne funksjonen ikke returnerer noen verdi kan vi forsøke å sette en variabel, *test*, til denne funksjonen og observere hva denne blir satt til å være:"
   ]
  },
  {
   "cell_type": "code",
   "execution_count": 8,
   "metadata": {},
   "outputs": [
    {
     "name": "stdout",
     "output_type": "stream",
     "text": [
      "3 + 2 = 5\n",
      "10 + 20 = 30\n",
      "1 + 1 = 2\n",
      "\n",
      "Test Variable content: None\n"
     ]
    }
   ],
   "source": [
    "def print_addition(number_1, number_2):\n",
    "    print(f\"{number_1} + {number_2} = {number_1 + number_2}\")\n",
    "\n",
    "print_addition(3, 2)\n",
    "print_addition(10, 20)\n",
    "\n",
    "test = print_addition(1, 1)\n",
    "print()\n",
    "print(f\"Test Variable content: {test}\")"
   ]
  },
  {
   "cell_type": "markdown",
   "metadata": {},
   "source": [
    "Vi kan se at siden funksjonen ikke returnerer noen verdi, vil variabelen forbli tom (verdeien er None), selv om funksjonen kjører. \n",
    "\n",
    "Selv om mange funksjoner vil benytte parametere, er det, som med return-verdier, strengt talt ikke nødvedig at en funksjon må ha disse. <br>\n",
    "Eksemplet under viser et tilfelle hvor vi verken har definerte parametere eller return-verdi, men bare en kode-kropp:"
   ]
  },
  {
   "cell_type": "code",
   "execution_count": 10,
   "metadata": {},
   "outputs": [
    {
     "name": "stdout",
     "output_type": "stream",
     "text": [
      "Lorem ipsum dolor sit amet, consectetur adipiscing elit. Sed quis purus eleifend, mattis ex vel, dapibus nulla. Quisque non blandit quam. Curabitur nisl purus, iaculis rhoncus lacus vel, porttitor elementum erat. Nam viverra pulvinar nulla in sodales. Nam condimentum lacinia felis, a efficitur sem mattis vel. Pellentesque molestie neque pellentesque velit lobortis laoreet. Duis eget consequat libero. Integer posuere viverra lorem, sed porttitor arcu placerat id.\n"
     ]
    }
   ],
   "source": [
    "def print_lorem_ipsum():\n",
    "    print(\"Lorem ipsum dolor sit amet, consectetur adipiscing elit. Sed quis purus eleifend, mattis ex vel, dapibus nulla. Quisque non blandit quam. Curabitur nisl purus, iaculis rhoncus lacus vel, porttitor elementum erat. Nam viverra pulvinar nulla in sodales. Nam condimentum lacinia felis, a efficitur sem mattis vel. Pellentesque molestie neque pellentesque velit lobortis laoreet. Duis eget consequat libero. Integer posuere viverra lorem, sed porttitor arcu placerat id.\")\n",
    "\n",
    "print_lorem_ipsum()"
   ]
  },
  {
   "cell_type": "markdown",
   "metadata": {},
   "source": [
    "Interessant nok, er heller ikke kodekroppen av en funksjon nødvendig å være definert. <br>\n",
    "Det er likevel mest naturlig at at i alle fall enten kodekroppen, eller en return-verdi er definert for at en funksjon skal ha en praktisk nytte:"
   ]
  },
  {
   "cell_type": "code",
   "execution_count": 22,
   "metadata": {},
   "outputs": [
    {
     "name": "stdout",
     "output_type": "stream",
     "text": [
      "Lorem ipsum dolor sit amet, consectetur adipiscing elit. Sed quis purus eleifend, mattis ex vel, dapibus nulla. Quisque non blandit quam. Curabitur nisl purus, iaculis rhoncus lacus vel, porttitor elementum erat. Nam viverra pulvinar nulla in sodales. Nam condimentum lacinia felis, a efficitur sem mattis vel. Pellentesque molestie neque pellentesque velit lobortis laoreet. Duis eget consequat libero. Integer posuere viverra lorem, sed porttitor arcu placerat id.\n"
     ]
    }
   ],
   "source": [
    "def give_lorem_ipsum():\n",
    "    return \"Lorem ipsum dolor sit amet, consectetur adipiscing elit. Sed quis purus eleifend, mattis ex vel, dapibus nulla. Quisque non blandit quam. Curabitur nisl purus, iaculis rhoncus lacus vel, porttitor elementum erat. Nam viverra pulvinar nulla in sodales. Nam condimentum lacinia felis, a efficitur sem mattis vel. Pellentesque molestie neque pellentesque velit lobortis laoreet. Duis eget consequat libero. Integer posuere viverra lorem, sed porttitor arcu placerat id.\"\n",
    "\n",
    "lorem_ipsum = give_lorem_ipsum()\n",
    "print(lorem_ipsum)"
   ]
  },
  {
   "cell_type": "markdown",
   "metadata": {},
   "source": [
    "## Praktisk bruk av funksjoner\n",
    "\n",
    "Funksjoner brukes oftest i tilfeller hvor man ønsker å utføre handlinger som krever en betydelig mengde kodelinjer på mer enn et sted i programmet. <br>\n",
    "For eksempel hvis vi ønsker å iterere gjennom elementene i en liste for å telle forekomster av en spesifikk verdi, vil èn instanse av et slikt søk se f.eks. slik ut:"
   ]
  },
  {
   "cell_type": "code",
   "execution_count": 1,
   "metadata": {},
   "outputs": [
    {
     "name": "stdout",
     "output_type": "stream",
     "text": [
      "Dark Souls count: 2\n"
     ]
    }
   ],
   "source": [
    "peoples_favorite_games = [\"Dark Souls\", \"Metal Gear Solid 3\", \"Portal 2\", \"Resident Evil 4\", \"Bloodborne\", \n",
    "                          \"Bloodborne\", \"Dark Souls\", \"Fornite\", \"Portal 2\", \"Bloodborne\"]\n",
    "dark_souls_count = 0\n",
    "for game in peoples_favorite_games:\n",
    "    if game == \"Dark Souls\":\n",
    "        dark_souls_count += 1\n",
    "print(f\"Dark Souls count: {dark_souls_count}\")"
   ]
  },
  {
   "cell_type": "markdown",
   "metadata": {},
   "source": [
    "Skulle vi manuelt definert hver slik instanse i programmet vårt, måtte vi ha skrevet denne koden, med noen justeringer, på nytt for hver instanse:"
   ]
  },
  {
   "cell_type": "code",
   "execution_count": 5,
   "metadata": {},
   "outputs": [
    {
     "name": "stdout",
     "output_type": "stream",
     "text": [
      "Dark Souls count: 2\n",
      "Bloodborne count: 3\n"
     ]
    }
   ],
   "source": [
    "favorite_game_survey = [\"Dark Souls\", \"Metal Gear Solid 3\", \"Portal 2\", \"Resident Evil 4\", \"Bloodborne\", \n",
    "                          \"Bloodborne\", \"Dark Souls\", \"Fornite\", \"Portal 2\", \"Bloodborne\"]\n",
    "dark_souls_count = 0\n",
    "for game in favorite_game_survey:\n",
    "    if game == \"Dark Souls\":\n",
    "        dark_souls_count += 1\n",
    "print(f\"Dark Souls count: {dark_souls_count}\")\n",
    "\n",
    "#arbitrary amount of code ...\n",
    "\n",
    "bloodborne_count = 0\n",
    "for game in favorite_game_survey:\n",
    "    if game == \"Bloodborne\":\n",
    "        bloodborne_count += 1\n",
    "print(f\"Bloodborne count: {bloodborne_count}\")"
   ]
  },
  {
   "cell_type": "markdown",
   "metadata": {},
   "source": [
    "Ved bruk av funksjoner kan vi gjøre dette mye enklere og mer effektivt. <br>\n",
    "Vi kan samle koden for å telle forekomster av en verdi i en liste i en funksjon og gjøre den dynamisk basert på to inputparametere; En for verdien vi ønsker å telle, og en for listen vi ønsker å telle i. <br>\n",
    "På denne måten kan vi forenkle denne overordnede handlingen og dens bruk ved å kalle funksjonen og sende inn en gitt verdi og liste, som dynamisk vil bestemme hva funksjonen skriver ut:"
   ]
  },
  {
   "cell_type": "code",
   "execution_count": 8,
   "metadata": {},
   "outputs": [
    {
     "name": "stdout",
     "output_type": "stream",
     "text": [
      "-----Original Favorite Game Survey-----\n",
      "Dark Souls count: 2\n",
      "Bloodborne count: 3\n",
      "\n",
      "-----Another Favorite Game Survey-----\n",
      "Dark Souls count: 0\n"
     ]
    }
   ],
   "source": [
    "def count_game(game_to_count, game_list):\n",
    "    count = 0\n",
    "    for game in game_list:\n",
    "        if game.lower() == game_to_count.lower():\n",
    "            count += 1\n",
    "    print(f\"{game_to_count.title()} count: {count}\")\n",
    "\n",
    "print(\"-----Original Favorite Game Survey-----\")\n",
    "favorite_game_survey = [\"Dark Souls\", \"Metal Gear Solid 3\", \"Portal 2\", \"Resident Evil 4\", \"Bloodborne\", \n",
    "                          \"Bloodborne\", \"Dark Souls\", \"Fornite\", \"Portal 2\", \"Bloodborne\"]\n",
    "\n",
    "count_game(\"Dark Souls\", favorite_game_survey)\n",
    "count_game(\"Bloodborne\", favorite_game_survey)\n",
    "\n",
    "print()\n",
    "print(\"-----Another Favorite Game Survey-----\")\n",
    "another_favorite_game_survey = [\"Fortnite\", \"The Witcher 3\", \"Fortnite\", \"Silent Hill 2\", \"The Witcher 3\", \"The Witcher 3\"]\n",
    "\n",
    "count_game(\"Dark Souls\", another_favorite_game_survey)"
   ]
  },
  {
   "cell_type": "code",
   "execution_count": null,
   "metadata": {},
   "outputs": [],
   "source": []
  }
 ],
 "metadata": {
  "kernelspec": {
   "display_name": "Python 3",
   "language": "python",
   "name": "python3"
  },
  "language_info": {
   "codemirror_mode": {
    "name": "ipython",
    "version": 3
   },
   "file_extension": ".py",
   "mimetype": "text/x-python",
   "name": "python",
   "nbconvert_exporter": "python",
   "pygments_lexer": "ipython3",
   "version": "3.8.6"
  }
 },
 "nbformat": 4,
 "nbformat_minor": 4
}
