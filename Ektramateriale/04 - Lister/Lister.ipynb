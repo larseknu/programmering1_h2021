{
 "cells": [
  {
   "cell_type": "markdown",
   "metadata": {},
   "source": [
    "# Lister"
   ]
  },
  {
   "cell_type": "markdown",
   "metadata": {},
   "source": [
    "Lister i python, også kalt Arrays i andre kontekster av programmering, er typer variabler som kan inneholde flere verdier og fungerer praktisk talt som lister med elementer. <br>\n",
    "Lister har en spesifikk order av elementene de holder på, hvor disse elementene kan være av hvilken som helst datatype. \n",
    "\n",
    "Lister er generelt nyttige i tilfeller av programmering hvor vi ønkser å holde på et sette med data uten å måtte opprette en unik variabel for hver verdi. <br>\n",
    "I slike tilfeller kan vi i stedet opprette èn liste og refere til denne når vi ønsker å gjøre noe med innholdet."
   ]
  },
  {
   "cell_type": "markdown",
   "metadata": {},
   "source": [
    "## Hvordan opprette en liste"
   ]
  },
  {
   "cell_type": "markdown",
   "metadata": {},
   "source": [
    "For å oprette en liste definerer man en variabel på vanlig måte og definerer verdien som en liste ved bruk av \\[\\] (klammeparanteser). <br>\n",
    "Innholdet av en liste kan i utganspunktet være hva som helst, både av samme eller forskjellige typer verdier. <br>\n",
    "Under er ett eksempel av en liste med tekststrenger som representerer titler på forskjellige videospill:"
   ]
  },
  {
   "cell_type": "code",
   "execution_count": 12,
   "metadata": {},
   "outputs": [
    {
     "name": "stdout",
     "output_type": "stream",
     "text": [
      "['Dark Souls', 'Legend of Zelda', 'Fortnite', 'Tetris']\n"
     ]
    }
   ],
   "source": [
    "videogames = [\"Dark Souls\", \"Legend of Zelda\", \"Fortnite\", \"Tetris\"]\n",
    "print(videogames)"
   ]
  },
  {
   "cell_type": "markdown",
   "metadata": {},
   "source": [
    "Det følgende er et eksempel på en liste med vilkålige verdier av forskjellige datatyper:"
   ]
  },
  {
   "cell_type": "code",
   "execution_count": 13,
   "metadata": {},
   "outputs": [
    {
     "name": "stdout",
     "output_type": "stream",
     "text": [
      "['Martin', 42, 3.14, True, 1000]\n"
     ]
    }
   ],
   "source": [
    "random_list = [\"Martin\", 42, 3.14, True, 1000]\n",
    "print(random_list)"
   ]
  },
  {
   "cell_type": "markdown",
   "metadata": {},
   "source": [
    "Bemerk at forskjellige datatyper innen en liste ikke nødvendigvis er støttet innenfor andre programmeringsspråk"
   ]
  },
  {
   "cell_type": "markdown",
   "metadata": {},
   "source": [
    "## Hvordan å refere til et spesifikt element i en liste"
   ]
  },
  {
   "cell_type": "markdown",
   "metadata": {},
   "source": [
    "Hvis vi ønsker å refere til et spesifikkt element i en liste kan vi benytte det som kalles *indexer*. <br>\n",
    "Indexer er praktisk talt heltall som referer til posisjoner av elementer i en liste. <br>\n",
    "Indexer kan være litt uintuitive når man er ny til programmering ettersom at det første elementet i en liste alltid har indexen, 0, det andre, 1, osv. <br>\n",
    "Indexer benyttes i praksis til å refere til spesifikke listeelementer. <br>\n",
    "Dette gjøres på dette formatet:\n",
    "\n",
    "    \\<liste\\>\\[\\<index\\>\\]\n",
    "\n",
    "Eksempelet under viser hvordan vi referer til det første elementet i en liste, ved å benytte index 0:"
   ]
  },
  {
   "cell_type": "code",
   "execution_count": 14,
   "metadata": {},
   "outputs": [
    {
     "name": "stdout",
     "output_type": "stream",
     "text": [
      "Dark Souls\n"
     ]
    }
   ],
   "source": [
    "videogames = [\"Dark Souls\", \"Legend of Zelda\", \"Fortnite\", \"Tetris\"]\n",
    "print(videogames[0])"
   ]
  },
  {
   "cell_type": "markdown",
   "metadata": {},
   "source": [
    "Hvis vi ønsker å referer til det tredje elementet i en liste kan vi finne dette ved å ta denne posisjonen, 3, og trekke fra 1. <br>\n",
    "Med dette har vi indexen på dette elementet, 2:"
   ]
  },
  {
   "cell_type": "code",
   "execution_count": 19,
   "metadata": {},
   "outputs": [
    {
     "name": "stdout",
     "output_type": "stream",
     "text": [
      "Fortnite\n"
     ]
    }
   ],
   "source": [
    "videogames = [\"Dark Souls\", \"Legend of Zelda\", \"Fortnite\", \"Tetris\"]\n",
    "print(videogames[2])"
   ]
  },
  {
   "cell_type": "markdown",
   "metadata": {},
   "source": [
    "## Hvordan endre et spesifikt element i en liste"
   ]
  },
  {
   "cell_type": "markdown",
   "metadata": {},
   "source": [
    "Man kan også sette et referert listeelement til en ny verdi ved å refere til elemented ved bruk av dens index og sette det til en ny verdi med =:"
   ]
  },
  {
   "cell_type": "code",
   "execution_count": 16,
   "metadata": {},
   "outputs": [
    {
     "name": "stdout",
     "output_type": "stream",
     "text": [
      "['Dark Souls', 'Legend of Zelda', 'Escape From Tarkov', 'Tetris']\n"
     ]
    }
   ],
   "source": [
    "videogames = [\"Dark Souls\", \"Legend of Zelda\", \"Fortnite\", \"Tetris\"]\n",
    "videogames[2] = \"Escape From Tarkov\"\n",
    "print(videogames)"
   ]
  },
  {
   "cell_type": "markdown",
   "metadata": {},
   "source": [
    "## Legge til elementer i en liste"
   ]
  },
  {
   "cell_type": "markdown",
   "metadata": {},
   "source": [
    "For å legge til et element på slutten av en liste, kan vi benytte .append():"
   ]
  },
  {
   "cell_type": "code",
   "execution_count": 17,
   "metadata": {},
   "outputs": [
    {
     "name": "stdout",
     "output_type": "stream",
     "text": [
      "['Dark Souls', 'Legend of Zelda', 'Fortnite', 'Tetris', 'Elden Ring']\n"
     ]
    }
   ],
   "source": [
    "videogames = [\"Dark Souls\", \"Legend of Zelda\", \"Fortnite\", \"Tetris\"]\n",
    "videogames.append(\"Elden Ring\")\n",
    "print(videogames)"
   ]
  },
  {
   "cell_type": "markdown",
   "metadata": {},
   "source": [
    "Legg merke til at vi ikke trengte å benytte = for å sette videogames-variabelen på nytt i dette tilfellet, men at .append() oppdaterer variabelen automatisk.\n",
    "\n",
    "Hvis vi ønsker å sette inn et nytt element på en spesifikk posisjon i listen, kan vi benytte .insert(). <br>\n",
    "Denne metoden benyttes slik:"
   ]
  },
  {
   "cell_type": "code",
   "execution_count": 18,
   "metadata": {},
   "outputs": [
    {
     "name": "stdout",
     "output_type": "stream",
     "text": [
      "['Dark Souls', 'Elden Ring', 'Legend of Zelda', 'Fortnite', 'Tetris']\n"
     ]
    }
   ],
   "source": [
    "videogames = [\"Dark Souls\", \"Legend of Zelda\", \"Fortnite\", \"Tetris\"]\n",
    "videogames.insert(1, \"Elden Ring\")\n",
    "print(videogames)"
   ]
  },
  {
   "cell_type": "markdown",
   "metadata": {},
   "source": [
    "Tallet, 1, representerer her indexen vi ønsker å sette inn den nye verdien, mens \"Elden Ring\" er verdien. <br>\n",
    "Med dette kan vi se at \"Elden Ring\" har blitt satt inn som det andre elementet i listen mens elementet som pleide å være på denne posisjonen, \"Legend of Zelda\", og de resterende elementene har blitt dyttet en posisjon opp (det samme gjelder indexene)."
   ]
  },
  {
   "cell_type": "markdown",
   "metadata": {},
   "source": [
    "## Fjerne listeelementer "
   ]
  },
  {
   "cell_type": "markdown",
   "metadata": {},
   "source": [
    "Hvis vi ønsker å fullstending slette et element fra en liste kan vi gjøre dette med del-kommandoen og refere til elementet vi ønsker å slette:"
   ]
  },
  {
   "cell_type": "code",
   "execution_count": 19,
   "metadata": {},
   "outputs": [
    {
     "name": "stdout",
     "output_type": "stream",
     "text": [
      "['Dark Souls', 'Legend of Zelda', 'Tetris']\n"
     ]
    }
   ],
   "source": [
    "videogames = [\"Dark Souls\", \"Legend of Zelda\", \"Fortnite\", \"Tetris\"]\n",
    "del videogames[2]\n",
    "print(videogames)"
   ]
  },
  {
   "cell_type": "markdown",
   "metadata": {},
   "source": [
    "Merk her at del-kommandoen er en kommando som generelt sletter python-\"elementer\", som vil si at denne kommandoen ikke er eksklusiv for å slette elementer i en liste, men kan for eksemepel også benyttes for å slette hele variabler.\n",
    "\n",
    "Vi kan også hente ut en verdi samtidig som vi fjerner det fra en liste. <br>\n",
    "Dette kan gjøres ved bruk av metoden, .pop(). <br>\n",
    "Standard funksjonen av .pop() er at den fjerner og returnerer siste element i lista."
   ]
  },
  {
   "cell_type": "code",
   "execution_count": 22,
   "metadata": {},
   "outputs": [
    {
     "name": "stdout",
     "output_type": "stream",
     "text": [
      "['Dark Souls', 'Legend of Zelda', 'Fortnite']\n",
      "Tetris\n"
     ]
    }
   ],
   "source": [
    "videogames = [\"Dark Souls\", \"Legend of Zelda\", \"Fortnite\", \"Tetris\"]\n",
    "last_element = videogames.pop()\n",
    "print(videogames)\n",
    "print(last_element)"
   ]
  },
  {
   "cell_type": "markdown",
   "metadata": {},
   "source": [
    "Legg merke til at .pop() her fungerer på samme måte som tidligere vist ved .append() og .insert() hvor bruken av metoden automatisk oppdaterer variabelen. <br>\n",
    ".pop() kan også benyttes på spesifikke listeelementer ved å sende inn en verdi som representer indexen av elemented vi ønsker å hente ut:"
   ]
  },
  {
   "cell_type": "code",
   "execution_count": 23,
   "metadata": {},
   "outputs": [
    {
     "name": "stdout",
     "output_type": "stream",
     "text": [
      "['Dark Souls', 'Fortnite', 'Tetris']\n",
      "Legend of Zelda\n"
     ]
    }
   ],
   "source": [
    "videogames = [\"Dark Souls\", \"Legend of Zelda\", \"Fortnite\", \"Tetris\"]\n",
    "some_element = videogames.pop(1)\n",
    "print(videogames)\n",
    "print(some_element)"
   ]
  },
  {
   "cell_type": "markdown",
   "metadata": {},
   "source": [
    "Vi kan her se at vi lagret verdien på index 1 i en egen variabel, samtidig som vi fjernet verdien fra listen.\n",
    "\n",
    "En annen metode for å fjerne listeelementer er å bare spesifisere hvilken verdi vi ønsker å fjerne uten å gi noen spesifikk posisjon. <br>\n",
    "Dette kan gjøres med .remove() metoden. <br>\n",
    "I eksemplet under benytter vi .remove() for å fjerne \"Fortnite\" fra listen:"
   ]
  },
  {
   "cell_type": "code",
   "execution_count": 1,
   "metadata": {},
   "outputs": [
    {
     "name": "stdout",
     "output_type": "stream",
     "text": [
      "['Dark Souls', 'Legend of Zelda', 'Tetris']\n"
     ]
    }
   ],
   "source": [
    "videogames = [\"Dark Souls\", \"Legend of Zelda\", \"Fortnite\", \"Tetris\"]\n",
    "videogames.remove(\"Fortnite\")\n",
    "print(videogames)"
   ]
  },
  {
   "cell_type": "markdown",
   "metadata": {},
   "source": [
    "Bemerk at .remove() bare vil fjærne det første elementet som matcher den spesifiserte verdien. <br>\n",
    "Er det flere elementer med samme verdi, vil de resterene elementene med denne verdien forbli uendret:"
   ]
  },
  {
   "cell_type": "code",
   "execution_count": 2,
   "metadata": {},
   "outputs": [
    {
     "name": "stdout",
     "output_type": "stream",
     "text": [
      "['Dark Souls', 'Legend of Zelda', 'Tetris', 'Fortnite']\n"
     ]
    }
   ],
   "source": [
    "videogames = [\"Dark Souls\", \"Legend of Zelda\", \"Fortnite\", \"Tetris\", \"Fortnite\"]\n",
    "videogames.remove(\"Fortnite\")\n",
    "print(videogames)"
   ]
  },
  {
   "cell_type": "markdown",
   "metadata": {},
   "source": [
    "## Finne lengden på en liste\n",
    "\n",
    "En nytting ting å vite når man programmerer med lister er hvor mange elementer en gitt liste inneholder. <br>\n",
    "Dette kan bli funnet ved bruk av funksjonen, len(), som returnerer \"lengden\" på en liste:"
   ]
  },
  {
   "cell_type": "code",
   "execution_count": 3,
   "metadata": {},
   "outputs": [
    {
     "name": "stdout",
     "output_type": "stream",
     "text": [
      "4\n"
     ]
    }
   ],
   "source": [
    "videogames = [\"Dark Souls\", \"Legend of Zelda\", \"Fortnite\", \"Tetris\"]\n",
    "print(len(videogames))"
   ]
  },
  {
   "cell_type": "markdown",
   "metadata": {},
   "source": [
    "len() returnerer her tallet 4, som vi kan se stemmer overens med antallet elementer i listen."
   ]
  },
  {
   "cell_type": "markdown",
   "metadata": {},
   "source": [
    "## Rekkefølge og sortering av lister\n",
    "\n",
    "Python har flere metoder for å kunne sortere lister. <br>\n",
    "Den enkleste er .reverse() som bare reverserer rekkefølgen på listeelementene. <br>\n",
    "Utenom dette har vi også sorted() og .sort(), som sorterer rekkefølgen på elementene basert på verdiene. <br>\n",
    "Merk her at for at sorted() og .sort() skal fungere, krever dette at alle elementene i en liste er sammenlignbare (alle elementer må uniformt være tall eller uniformt være tekst)\n",
    "\n",
    "### .reverse()\n",
    "Metoden, .reverse(), kan benyttes for å snu rekkefølgen på elementene i en liste:"
   ]
  },
  {
   "cell_type": "code",
   "execution_count": 4,
   "metadata": {},
   "outputs": [
    {
     "name": "stdout",
     "output_type": "stream",
     "text": [
      "['Tetris', 'Fortnite', 'Legend of Zelda', 'Dark Souls']\n"
     ]
    }
   ],
   "source": [
    "videogames = [\"Dark Souls\", \"Legend of Zelda\", \"Fortnite\", \"Tetris\"]\n",
    "videogames.reverse()\n",
    "print(videogames)"
   ]
  },
  {
   "cell_type": "markdown",
   "metadata": {},
   "source": [
    "Merk at endringen i rekkefølge er permanent på liste-variabelen, så hvis du ønsker å benytte listen med dens orginale rekkefølge, må du igjen reversere listen med .reverse():"
   ]
  },
  {
   "cell_type": "code",
   "execution_count": 5,
   "metadata": {},
   "outputs": [
    {
     "name": "stdout",
     "output_type": "stream",
     "text": [
      "['Tetris', 'Fortnite', 'Legend of Zelda', 'Dark Souls']\n",
      "['Dark Souls', 'Legend of Zelda', 'Fortnite', 'Tetris']\n"
     ]
    }
   ],
   "source": [
    "videogames = [\"Dark Souls\", \"Legend of Zelda\", \"Fortnite\", \"Tetris\"]\n",
    "videogames.reverse()\n",
    "print(videogames)\n",
    "videogames.reverse()\n",
    "print(videogames)"
   ]
  },
  {
   "cell_type": "markdown",
   "metadata": {},
   "source": [
    "### sorted()\n",
    "\n",
    "sorted() er en funksjon for å midlertidig sortere listelementer. <br>\n",
    "Som standard vil denne funksjonen sortere elementene i stigende rekkefølge for tall og alphabetisk for tekststrenger:"
   ]
  },
  {
   "cell_type": "code",
   "execution_count": 6,
   "metadata": {},
   "outputs": [
    {
     "name": "stdout",
     "output_type": "stream",
     "text": [
      "['Dark Souls', 'Legend of Zelda', 'Fortnite', 'Tetris']\n",
      "['Dark Souls', 'Fortnite', 'Legend of Zelda', 'Tetris']\n"
     ]
    }
   ],
   "source": [
    "videogames = [\"Dark Souls\", \"Legend of Zelda\", \"Fortnite\", \"Tetris\"]\n",
    "videogames_sorted = sorted(videogames)\n",
    "print(videogames)\n",
    "print(videogames_sorted)"
   ]
  },
  {
   "cell_type": "code",
   "execution_count": 14,
   "metadata": {},
   "outputs": [
    {
     "name": "stdout",
     "output_type": "stream",
     "text": [
      "[8, 3.2, 42, 1]\n",
      "[1, 3.2, 8, 42]\n"
     ]
    }
   ],
   "source": [
    "numbers = [8, 3.2, 42, 1]\n",
    "numbers_sorted = sorted(numbers)\n",
    "print(numbers)\n",
    "print(numbers_sorted)"
   ]
  },
  {
   "cell_type": "markdown",
   "metadata": {},
   "source": [
    "Hvis man ønsker å sortere listen i senkende rekkefølge for tall eller i reversert alphabetisk rekkefølge for tekst, kan vi gjøre dette ved å spesifisere reverse=True, som en ekstra input for funksjonen:"
   ]
  },
  {
   "cell_type": "code",
   "execution_count": 8,
   "metadata": {},
   "outputs": [
    {
     "name": "stdout",
     "output_type": "stream",
     "text": [
      "['Dark Souls', 'Legend of Zelda', 'Fortnite', 'Tetris']\n",
      "['Tetris', 'Legend of Zelda', 'Fortnite', 'Dark Souls']\n"
     ]
    }
   ],
   "source": [
    "videogames = [\"Dark Souls\", \"Legend of Zelda\", \"Fortnite\", \"Tetris\"]\n",
    "videogames_sorted = sorted(videogames, reverse=True)\n",
    "print(videogames)\n",
    "print(videogames_sorted)"
   ]
  },
  {
   "cell_type": "code",
   "execution_count": 15,
   "metadata": {},
   "outputs": [
    {
     "name": "stdout",
     "output_type": "stream",
     "text": [
      "[8, 3.2, 42, 1]\n",
      "[42, 8, 3.2, 1]\n"
     ]
    }
   ],
   "source": [
    "numbers = [8, 3.2, 42, 1]\n",
    "numbers_sorted = sorted(numbers, reverse=True)\n",
    "print(numbers)\n",
    "print(numbers_sorted)"
   ]
  },
  {
   "cell_type": "markdown",
   "metadata": {},
   "source": [
    "### .sort()\n",
    "\n",
    ".sort er en metode for å permanent sortere listelementer. <br>\n",
    "Som sorted(), vil .sort() som standard sortere elementene i stigende rekkefølge for tall og alphabetisk rekkefølge for tekststrenger:"
   ]
  },
  {
   "cell_type": "code",
   "execution_count": 10,
   "metadata": {},
   "outputs": [
    {
     "name": "stdout",
     "output_type": "stream",
     "text": [
      "['Dark Souls', 'Legend of Zelda', 'Fortnite', 'Tetris']\n",
      "['Dark Souls', 'Fortnite', 'Legend of Zelda', 'Tetris']\n"
     ]
    }
   ],
   "source": [
    "videogames = [\"Dark Souls\", \"Legend of Zelda\", \"Fortnite\", \"Tetris\"]\n",
    "print(videogames)\n",
    "videogames.sort()\n",
    "print(videogames)"
   ]
  },
  {
   "cell_type": "code",
   "execution_count": 16,
   "metadata": {},
   "outputs": [
    {
     "name": "stdout",
     "output_type": "stream",
     "text": [
      "[8, 3.2, 42, 1]\n",
      "[1, 3.2, 8, 42]\n"
     ]
    }
   ],
   "source": [
    "numbers = [8, 3.2, 42, 1]\n",
    "print(numbers)\n",
    "numbers.sort()\n",
    "print(numbers)"
   ]
  },
  {
   "cell_type": "markdown",
   "metadata": {},
   "source": [
    "På samme måte som ved sorted(), kan vi også benytte reverse=True som input for .sort() for å reversere sorteringskriterie:"
   ]
  },
  {
   "cell_type": "code",
   "execution_count": 13,
   "metadata": {},
   "outputs": [
    {
     "name": "stdout",
     "output_type": "stream",
     "text": [
      "['Dark Souls', 'Legend of Zelda', 'Fortnite', 'Tetris']\n",
      "['Tetris', 'Legend of Zelda', 'Fortnite', 'Dark Souls']\n"
     ]
    }
   ],
   "source": [
    "videogames = [\"Dark Souls\", \"Legend of Zelda\", \"Fortnite\", \"Tetris\"]\n",
    "print(videogames)\n",
    "videogames.sort(reverse=True)\n",
    "print(videogames)"
   ]
  },
  {
   "cell_type": "code",
   "execution_count": 17,
   "metadata": {},
   "outputs": [
    {
     "name": "stdout",
     "output_type": "stream",
     "text": [
      "[8, 3.2, 42, 1]\n",
      "[42, 8, 3.2, 1]\n"
     ]
    }
   ],
   "source": [
    "numbers = [8, 3.2, 42, 1]\n",
    "print(numbers)\n",
    "numbers.sort(reverse=True)\n",
    "print(numbers)"
   ]
  },
  {
   "cell_type": "markdown",
   "metadata": {},
   "source": [
    "### Sortering av lister med en blanding av tekst og tall"
   ]
  },
  {
   "cell_type": "markdown",
   "metadata": {},
   "source": [
    "Bemerk at verken sorted() eller .sort() vil fungere med lister som inneholder en blanding av tekst og tall:"
   ]
  },
  {
   "cell_type": "code",
   "execution_count": 18,
   "metadata": {},
   "outputs": [
    {
     "ename": "TypeError",
     "evalue": "'<' not supported between instances of 'int' and 'str'",
     "output_type": "error",
     "traceback": [
      "\u001b[1;31m---------------------------------------------------------------------------\u001b[0m",
      "\u001b[1;31mTypeError\u001b[0m                                 Traceback (most recent call last)",
      "\u001b[1;32m<ipython-input-18-e363d92e5be1>\u001b[0m in \u001b[0;36m<module>\u001b[1;34m\u001b[0m\n\u001b[0;32m      1\u001b[0m \u001b[0mrandom_list\u001b[0m \u001b[1;33m=\u001b[0m \u001b[1;33m[\u001b[0m\u001b[1;34m\"Legend of Zelda\"\u001b[0m\u001b[1;33m,\u001b[0m \u001b[1;36m42\u001b[0m\u001b[1;33m,\u001b[0m \u001b[1;36m3.2\u001b[0m\u001b[1;33m,\u001b[0m \u001b[1;34m\"Tetris\"\u001b[0m\u001b[1;33m]\u001b[0m\u001b[1;33m\u001b[0m\u001b[1;33m\u001b[0m\u001b[0m\n\u001b[1;32m----> 2\u001b[1;33m \u001b[0mprint\u001b[0m\u001b[1;33m(\u001b[0m\u001b[0msorted\u001b[0m\u001b[1;33m(\u001b[0m\u001b[0mrandom_list\u001b[0m\u001b[1;33m)\u001b[0m\u001b[1;33m)\u001b[0m\u001b[1;33m\u001b[0m\u001b[1;33m\u001b[0m\u001b[0m\n\u001b[0m",
      "\u001b[1;31mTypeError\u001b[0m: '<' not supported between instances of 'int' and 'str'"
     ]
    }
   ],
   "source": [
    "random_list = [\"Legend of Zelda\", 42, 3.2, \"Tetris\"]\n",
    "print(sorted(random_list))"
   ]
  },
  {
   "cell_type": "code",
   "execution_count": null,
   "metadata": {},
   "outputs": [],
   "source": []
  }
 ],
 "metadata": {
  "kernelspec": {
   "display_name": "Python 3",
   "language": "python",
   "name": "python3"
  },
  "language_info": {
   "codemirror_mode": {
    "name": "ipython",
    "version": 3
   },
   "file_extension": ".py",
   "mimetype": "text/x-python",
   "name": "python",
   "nbconvert_exporter": "python",
   "pygments_lexer": "ipython3",
   "version": "3.8.6"
  }
 },
 "nbformat": 4,
 "nbformat_minor": 4
}
