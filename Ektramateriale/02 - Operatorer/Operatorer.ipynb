{
 "cells": [
  {
   "cell_type": "markdown",
   "metadata": {},
   "source": [
    "# Operatorer"
   ]
  },
  {
   "cell_type": "markdown",
   "metadata": {},
   "source": [
    "## Hva er operatorer?"
   ]
  },
  {
   "cell_type": "markdown",
   "metadata": {},
   "source": [
    "Som forklart i forbindelse med variabler, handler programmering is stor grad om å manipulere variabler, og dermed verdier. <br>\n",
    "En ganske grunnleggende måte å manipulere verdier på er ved bruk av det som kalles *operatorer*.\n",
    "\n",
    "Det finnes i utgangspunktet mange operatorer innenfor programmering, men de som er mest relevante for dette steget av kurset er *aritmetiske operatorer*. <br>\n",
    "Dette begrepet høres kanskje komplisert ut, men alle som før har lært om matematikk vil allerede være kjent med de fleste aritmetiske operatorer og hvordan de fungerer. <br>\n",
    "De aritmetiske operatorene i python er som følger:\n",
    "* **\\+** (pluss)\n",
    "* **\\-** (minus)\n",
    "* **\\*** (gange)\n",
    "* **\\/** (dele)\n",
    "* **\\/\\/** (floor division)\n",
    "    * Fungerer på samme måte som å dele, men resultatet blir nedrundet til nærmeste heltall (int).\n",
    "* **\\*\\*** (opphøye)\n",
    "    * Ganger et tall, *a*, med seg selv *b* ganger.\n",
    "* **\\%** (modulo)\n",
    "    * Heltallsdividerer et tall, *a*, med et tall, *b*, og returnerer restverdien.\n",
    "    * Formel: a - ( int(a/b) * b )\n",
    "    \n",
    "Som nevnt tidligere, er operatorer ganske grunnleggende for manipulasjon av verdier og variabler i programmering. <br>\n",
    "Utenom de åpenbare situasjonene hvor matematiske operasjoner er nødvendige, benyttes også aritmetiske operatorer ofte i kombinasjon eller som en del av videre teknikker vi vil gå gjennom i dette kurset. "
   ]
  },
  {
   "cell_type": "markdown",
   "metadata": {},
   "source": [
    "## Hvordan benytter man aritmetiske operatorer?"
   ]
  },
  {
   "cell_type": "markdown",
   "metadata": {},
   "source": [
    "De aritmetiske operatorene benyttes hovedsakelig likt som i matematikk, men uten \"=\" siden dette tegnet er benyttet til å sette variabler. <br>\n",
    "Dessuten er det ikke nødvendig for programmereren å spesifisere hva resultatet er, slik som man må i matematikk, siden dette er datamaskinens oppgave.\n",
    "\n",
    "De aritmetiske operatorene kan benyttes på både rene tallverdier og variabler med inneholdte tallverdier. <br>\n",
    "Verdiene som operatorene benyttes på kan være både int og float, enten eksklusivt eller om hverandre, og kan være både positive eller negative verdier.\n",
    "\n",
    "De følgende eksemplene viser hvordan man benytter hver av de aritmetiske operatorene:"
   ]
  },
  {
   "cell_type": "markdown",
   "metadata": {},
   "source": [
    "### + (Pluss)"
   ]
  },
  {
   "cell_type": "markdown",
   "metadata": {},
   "source": [
    "Operatoren, +, benyttes for å legge sammen tall verdier.\n",
    "\n",
    "Eksempel:"
   ]
  },
  {
   "cell_type": "code",
   "execution_count": 1,
   "metadata": {},
   "outputs": [
    {
     "name": "stdout",
     "output_type": "stream",
     "text": [
      "10\n"
     ]
    }
   ],
   "source": [
    "number_1 = 4\n",
    "number_2 = 6\n",
    "print(number_1 + number_2)"
   ]
  },
  {
   "cell_type": "markdown",
   "metadata": {},
   "source": [
    "**Text manipulasjon med \\+** <br>\n",
    "Unikt for denne operatoren, kan + også benyttes for å legge sammen tekststrenger. <br>\n",
    "Dette er på en annen side ikke en aritmetisk operasjon siden operasjonen blir utført på tekst og ikke tall:"
   ]
  },
  {
   "cell_type": "code",
   "execution_count": 3,
   "metadata": {},
   "outputs": [
    {
     "name": "stdout",
     "output_type": "stream",
     "text": [
      "OlaNordmann\n"
     ]
    }
   ],
   "source": [
    "first_name = \"Ola\"\n",
    "last_name = \"Nordmann\"\n",
    "print(first_name + last_name)"
   ]
  },
  {
   "cell_type": "markdown",
   "metadata": {},
   "source": [
    "Merk at det ikke er noe mellomrom mellom fornavnet og etternavnet. Vi kan fikse dette ved å legge til \" \" mellom strengene:"
   ]
  },
  {
   "cell_type": "code",
   "execution_count": 4,
   "metadata": {},
   "outputs": [
    {
     "name": "stdout",
     "output_type": "stream",
     "text": [
      "Ola Nordmann\n"
     ]
    }
   ],
   "source": [
    "first_name = \"Ola\"\n",
    "last_name = \"Nordmann\"\n",
    "print(first_name + \" \" + last_name)"
   ]
  },
  {
   "cell_type": "markdown",
   "metadata": {},
   "source": [
    "### - (Minus)"
   ]
  },
  {
   "cell_type": "markdown",
   "metadata": {},
   "source": [
    "Operatoren, -, benyttes for å trekke fra en tall verdi fra en annen:"
   ]
  },
  {
   "cell_type": "code",
   "execution_count": 8,
   "metadata": {},
   "outputs": [
    {
     "name": "stdout",
     "output_type": "stream",
     "text": [
      "11.7\n"
     ]
    }
   ],
   "source": [
    "number_1 = 15.7\n",
    "number_2 = 4\n",
    "print(number_1 - number_2)"
   ]
  },
  {
   "cell_type": "markdown",
   "metadata": {},
   "source": [
    "### * (Gange)"
   ]
  },
  {
   "cell_type": "markdown",
   "metadata": {},
   "source": [
    "Operatoren, \\*, benyttes for gange sammen verdier:"
   ]
  },
  {
   "cell_type": "code",
   "execution_count": 6,
   "metadata": {},
   "outputs": [
    {
     "name": "stdout",
     "output_type": "stream",
     "text": [
      "-10\n"
     ]
    }
   ],
   "source": [
    "number_1 = -2\n",
    "number_2 = 5\n",
    "print(number_1 * number_2)"
   ]
  },
  {
   "cell_type": "markdown",
   "metadata": {},
   "source": [
    "### \\/ (Dele)"
   ]
  },
  {
   "cell_type": "markdown",
   "metadata": {},
   "source": [
    "Operatoren, \\/, benyttes for å dele en verdi med en annen:"
   ]
  },
  {
   "cell_type": "code",
   "execution_count": 9,
   "metadata": {},
   "outputs": [
    {
     "name": "stdout",
     "output_type": "stream",
     "text": [
      "5.4\n"
     ]
    }
   ],
   "source": [
    "number_1 = 27\n",
    "number_2 = 5\n",
    "print(number_1 / number_2)"
   ]
  },
  {
   "cell_type": "markdown",
   "metadata": {},
   "source": [
    "Merk også at python returnerer en float verdi uavhenging av hvilke datatyper verdiene operatoren benyttes på:"
   ]
  },
  {
   "cell_type": "code",
   "execution_count": 10,
   "metadata": {},
   "outputs": [
    {
     "name": "stdout",
     "output_type": "stream",
     "text": [
      "2.0\n"
     ]
    }
   ],
   "source": [
    "number_1 = 10\n",
    "number_2 = 5\n",
    "print(number_1 / number_2)"
   ]
  },
  {
   "cell_type": "markdown",
   "metadata": {},
   "source": [
    "### \\/\\/ (Floor Division)"
   ]
  },
  {
   "cell_type": "markdown",
   "metadata": {},
   "source": [
    "Operatoren, \\/\\/, benyttes for å dele en verdi med en annen og automatisk runde ned resultatet til nærmeste heltall:"
   ]
  },
  {
   "cell_type": "code",
   "execution_count": 14,
   "metadata": {},
   "outputs": [
    {
     "name": "stdout",
     "output_type": "stream",
     "text": [
      "1\n"
     ]
    }
   ],
   "source": [
    "number_1 = 100\n",
    "number_2 = 90\n",
    "print(number_1 // number_2)"
   ]
  },
  {
   "cell_type": "markdown",
   "metadata": {},
   "source": [
    "Det vil si at denne operatoren praktisk gjør det samme som å manuelt konvertere resultatet av vanlig deling til int:"
   ]
  },
  {
   "cell_type": "code",
   "execution_count": 2,
   "metadata": {},
   "outputs": [
    {
     "name": "stdout",
     "output_type": "stream",
     "text": [
      "1\n"
     ]
    }
   ],
   "source": [
    "number_1 = 100\n",
    "number_2 = 90\n",
    "print( int(number_1 / number_2) )"
   ]
  },
  {
   "cell_type": "markdown",
   "metadata": {},
   "source": [
    "### \\*\\* (Opphøye)"
   ]
  },
  {
   "cell_type": "markdown",
   "metadata": {},
   "source": [
    "Operatoren, \\*\\*, benyttes til å gange et tall med seg selv et visst antall ganger:"
   ]
  },
  {
   "cell_type": "code",
   "execution_count": 16,
   "metadata": {},
   "outputs": [
    {
     "name": "stdout",
     "output_type": "stream",
     "text": [
      "8\n"
     ]
    }
   ],
   "source": [
    "number_1 = 2\n",
    "number_2 = 3\n",
    "print(number_1 ** number_2)"
   ]
  },
  {
   "cell_type": "markdown",
   "metadata": {},
   "source": [
    "Dette er dermed det samme som:"
   ]
  },
  {
   "cell_type": "code",
   "execution_count": 17,
   "metadata": {},
   "outputs": [
    {
     "name": "stdout",
     "output_type": "stream",
     "text": [
      "8\n"
     ]
    }
   ],
   "source": [
    "number = 2\n",
    "print(number * number * number)"
   ]
  },
  {
   "cell_type": "markdown",
   "metadata": {},
   "source": [
    "### \\% (Modulo)"
   ]
  },
  {
   "cell_type": "markdown",
   "metadata": {},
   "source": [
    "Operatoren, \\%, benyttes for å returnere verdien som er igjen etter å ha heltallsdividert ett tall med et annet:"
   ]
  },
  {
   "cell_type": "code",
   "execution_count": 11,
   "metadata": {},
   "outputs": [
    {
     "name": "stdout",
     "output_type": "stream",
     "text": [
      "3.3000000000000007\n"
     ]
    }
   ],
   "source": [
    "number_1 = 23.3\n",
    "number_2 = 5\n",
    "print(number_1 % number_2)"
   ]
  },
  {
   "cell_type": "markdown",
   "metadata": {},
   "source": [
    "Ettersom at 5, som et helt tall, går opp 4 ganger i tallet 23.3, kan vi dermed trekke fra 4\\*5 = 20, og få det endelige resultatet, 3.3. (Ikke tenk på 7-tallet på slutten av den returnerte verdien. Dette er bare en presentasjonsfeil, og er vanlig i de fleste programmeringsspråk.)\n",
    "\n",
    "Modulo-operatoren kan være litt vanskelig å se nytten av siden den er spesifikk hva den returnerer. <br>\n",
    "Men for å gi et eksempel: Et vanlig bruk av modulo er for å sjekke om et tall er et partall. <br>\n",
    "Dette kan gjøres ved å benytte % 2 på tallet man ønsker å partallssjekke:"
   ]
  },
  {
   "cell_type": "code",
   "execution_count": 12,
   "metadata": {},
   "outputs": [
    {
     "name": "stdout",
     "output_type": "stream",
     "text": [
      "0\n"
     ]
    }
   ],
   "source": [
    "number = 52\n",
    "print(number % 2)"
   ]
  },
  {
   "cell_type": "markdown",
   "metadata": {},
   "source": [
    "Vi vet at dette tallet er et partall ettersom at den returnerte verdien er 0. <br>\n",
    "Det vil si at tallet 52 kunne deles perfekt på 2 uten noen gjenværende rest"
   ]
  },
  {
   "cell_type": "markdown",
   "metadata": {},
   "source": [
    "**Modulo med negative tall** <br>\n",
    "Merk at hvis du forsøker å benytte modulo med negative tall, vil du få litt snodige resultater: "
   ]
  },
  {
   "cell_type": "code",
   "execution_count": 13,
   "metadata": {},
   "outputs": [
    {
     "name": "stdout",
     "output_type": "stream",
     "text": [
      "1.6999999999999993\n"
     ]
    }
   ],
   "source": [
    "number_1 = -23.3\n",
    "number_2 = 5\n",
    "print(number_1 % number_2)"
   ]
  },
  {
   "cell_type": "markdown",
   "metadata": {},
   "source": [
    "Dette er fordi modulo i dette tilfellet blir håndtert litt annerledes enn det tidligere forklart. <br>\n",
    "Du kan likevel trygt se bort i fra dette brukscenarioet siden denne operatoren allerede er såpass spesifik, og du mest sannsynlig ikke kommer til å ha behov for benytte den med negative verdier. "
   ]
  },
  {
   "cell_type": "markdown",
   "metadata": {},
   "source": [
    "## Assignment-operatorer"
   ]
  },
  {
   "cell_type": "markdown",
   "metadata": {},
   "source": [
    "En annen type operator som vi allerede har benyttet, er det som kalles for *assignment-operatorer*. <br>\n",
    "Disse er operatorer vi benytter for å sette variabler.\n",
    "\n",
    "Med andre ord; når vi setter en variabel på følgende måte...:"
   ]
  },
  {
   "cell_type": "code",
   "execution_count": 1,
   "metadata": {},
   "outputs": [],
   "source": [
    "name = \"John Doe\""
   ]
  },
  {
   "cell_type": "markdown",
   "metadata": {},
   "source": [
    "er = en assignment-operator.\n",
    "\n",
    "Vi kan på en annen side gjøre mer med assignment-operatorer enn å sette variablerverdier. <br>\n",
    "Spesifikt kan vi sette og utføre aritmetiske operasjoner på en variabel i en og samme handling, med utganspunkt i en eksisterende variabel verdi. <br>\n",
    "\n",
    "For eksempel kan vi gjøre dette på denne måten:"
   ]
  },
  {
   "cell_type": "code",
   "execution_count": 6,
   "metadata": {},
   "outputs": [
    {
     "name": "stdout",
     "output_type": "stream",
     "text": [
      "2\n"
     ]
    }
   ],
   "source": [
    "number = 1\n",
    "number += 1\n",
    "print(number)"
   ]
  },
  {
   "cell_type": "markdown",
   "metadata": {},
   "source": [
    "I dette tilfellet benytter vi assignment-operatoren, +=. <br>\n",
    "Denne operatoren gjør praktisk talt det samme som den følgende koden:"
   ]
  },
  {
   "cell_type": "code",
   "execution_count": 8,
   "metadata": {},
   "outputs": [
    {
     "name": "stdout",
     "output_type": "stream",
     "text": [
      "2\n"
     ]
    }
   ],
   "source": [
    "number = 1\n",
    "number = number + 1\n",
    "print(number)"
   ]
  },
  {
   "cell_type": "markdown",
   "metadata": {},
   "source": [
    "Å benytte assignment-operatorer på denne måten kan dermed tenkes på som å forkorte aritmetiske operasjoner på allerede eksisterende variabler. <br>\n",
    "Merk at dette bare gjelder for eksisterende variabler. <br>\n",
    "For eksemepel hvis vi forsøker å benytte den samme assignment-operatoren, +=, på en variabel som ikke er opprettet, for vi en error:"
   ]
  },
  {
   "cell_type": "code",
   "execution_count": 11,
   "metadata": {},
   "outputs": [
    {
     "ename": "NameError",
     "evalue": "name 'unassigned_variable' is not defined",
     "output_type": "error",
     "traceback": [
      "\u001b[1;31m---------------------------------------------------------------------------\u001b[0m",
      "\u001b[1;31mNameError\u001b[0m                                 Traceback (most recent call last)",
      "\u001b[1;32m<ipython-input-11-cb8e09d871ed>\u001b[0m in \u001b[0;36m<module>\u001b[1;34m\u001b[0m\n\u001b[1;32m----> 1\u001b[1;33m \u001b[0munassigned_variable\u001b[0m \u001b[1;33m+=\u001b[0m \u001b[1;36m1\u001b[0m\u001b[1;33m\u001b[0m\u001b[1;33m\u001b[0m\u001b[0m\n\u001b[0m",
      "\u001b[1;31mNameError\u001b[0m: name 'unassigned_variable' is not defined"
     ]
    }
   ],
   "source": [
    "unassigned_variable += 1"
   ]
  },
  {
   "cell_type": "markdown",
   "metadata": {},
   "source": [
    "### Forskjellige assignment-operatorer"
   ]
  },
  {
   "cell_type": "markdown",
   "metadata": {},
   "source": [
    "Alle av de tidligere gjennomgåtte aritmetiske operatorene kan også benyttes som assignment-operatorer gjennom dette formatet (\\[\\] ):\n",
    "\n",
    "    \\[eksisterende variabel\\] \\[aritmetisk operator\\]= \\[verdi å operere med\\]\n",
    "\n",
    "som praktisk talt er det samme som:\n",
    "\n",
    "    \\[eksisterende variabel\\] = \\[eksisterende variabel\\] \\[aritmetisk operator\\] \\[verdi å operere med\\]\n",
    "\n",
    "Basert på de gjennomgåtte aritmetiske operatorene, er disse de korresponderende assignment operatorene og vil fungere på samme måte som i eksempelet over med +=:\n",
    "\n",
    "* +=\n",
    "* -=\n",
    "* \\*=\n",
    "* \\/=\n",
    "* \\/\\/=\n",
    "* \\*\\*=\n",
    "* %="
   ]
  },
  {
   "cell_type": "code",
   "execution_count": null,
   "metadata": {},
   "outputs": [],
   "source": []
  }
 ],
 "metadata": {
  "kernelspec": {
   "display_name": "Python 3",
   "language": "python",
   "name": "python3"
  },
  "language_info": {
   "codemirror_mode": {
    "name": "ipython",
    "version": 3
   },
   "file_extension": ".py",
   "mimetype": "text/x-python",
   "name": "python",
   "nbconvert_exporter": "python",
   "pygments_lexer": "ipython3",
   "version": "3.8.6"
  }
 },
 "nbformat": 4,
 "nbformat_minor": 4
}
