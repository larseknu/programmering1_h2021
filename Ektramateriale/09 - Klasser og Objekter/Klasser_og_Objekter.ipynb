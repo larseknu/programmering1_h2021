{
 "cells": [
  {
   "cell_type": "markdown",
   "metadata": {},
   "source": [
    "# Klasser og Objekter"
   ]
  },
  {
   "cell_type": "markdown",
   "metadata": {},
   "source": [
    "Klasser og objekter er frekvent brukte konsepter innenfor programmering, spesielt i sammenheng med Objektorientert Programmering, og er nyttige i tilfeller hvor vi ønsker å samle forskjellige typer variabler og/eller funksjoner som konseptuellt henger sammen, og definere denne samlingen som en egen datatype. <br>\n",
    "En gitt klasse er dermed en brukerdefinert datatype som kan bestå av en rekke variabler og/eller funksjoner (kalles metoder i konteksten av klasser). <br>\n",
    "Ettersom klasser er brukerdefinerte datatyper, er de definert slik at man senere kan opprette instanser av dem som vil følge samme format. <br>\n",
    "Dette betyr en gitt klasse må være definert på en abstrakt måte som spesifiserer hvilke \"egenskaper\" (variabler og metoder) instanser av denne klassen skal ha, uten å definere instans-spesifikke detaljer. <br>\n",
    "Vi omtaler en gitt instanse av en spesifikk klasse som et \"objekt\" av denne klassen. "
   ]
  },
  {
   "cell_type": "markdown",
   "metadata": {},
   "source": [
    "## Opprette en klasse"
   ]
  },
  {
   "cell_type": "markdown",
   "metadata": {},
   "source": [
    "For å opprette en klasse, kreves det minst to ting:\n",
    "\n",
    "* Et navn på klassen\n",
    "* En \\_\\_init\\_\\_() metode\n",
    "\n",
    "Navnet på klassen er hva vi vil refere til når vi ønsker å opprette objekter av denne, mens \\_\\_init\\_\\_() metoden (ofte kalt klassens \"konstruktør\") er koden som vil kjøre når vi oppretter et gitt objekt. <br>\n",
    "Verdt å bemerke er at \\_\\_init\\_\\_() metoder inneholder som regel bare funksjonalitet relevant for selve opprettelsen av objekter. <br>\n",
    "Dette er med andre ord metoden som \"konstruerer\" objekter av klassen.\n",
    "\n",
    "Eksempelet under viser syntaksen for å opprette en tom klasse som vi senere skal utvide til å programmatisk representere rektangler:"
   ]
  },
  {
   "cell_type": "code",
   "execution_count": 16,
   "metadata": {},
   "outputs": [],
   "source": [
    "class Rectangle:\n",
    "    def __init__(self):\n",
    "        return"
   ]
  },
  {
   "cell_type": "markdown",
   "metadata": {},
   "source": [
    "\"class Rectangle:\" definerer her at klassen skal hete \"Rectangle\", hvor alt indentert etter dette tilhører denne klassen. <br>\n",
    "\\_\\_init\\_\\_() metoden er definert nesten likt som en vanlig funksjon, med unntak av inputen, som må inneholde en referanse kalt *self* som første parameter. <br>\n",
    "Vi kommer tilbake til hva *self* faktisk betyr om litt.\n",
    "\n",
    "Hvis vi ønsker å opprette objekter av denne (tomme) klassen, kan vi gjøre dette ved å opprette en variabel utenfor klassen på følgende format:\n",
    "    \n",
    "    \\<variabelnavn\\> = \\<klassenavn\\>()\n",
    "    \n",
    "Bemerk at vi ikke spesifiserer noen input for self. <br>\n",
    "Denne parameteren blir satt automatisk.\n",
    "\n",
    "Et praktisk eksempel av objekt-opprettelse er vist under:"
   ]
  },
  {
   "cell_type": "code",
   "execution_count": 18,
   "metadata": {},
   "outputs": [
    {
     "name": "stdout",
     "output_type": "stream",
     "text": [
      "<class '__main__.Rectangle'>\n"
     ]
    }
   ],
   "source": [
    "class Rectangle:\n",
    "    def __init__(self):\n",
    "        return\n",
    "    \n",
    "rectangle_object = Rectangle()\n",
    "print(type(rectangle_object))"
   ]
  },
  {
   "cell_type": "markdown",
   "metadata": {},
   "source": [
    "Vi kan se at variabelen, rectangle_object, er et objekt av Rectangle-klassen ved å skrive ut typen av denne variabelen, som viser at den er en instanse av klassen Rectangle, som er definert i \\_\\_main\\_\\_. <br>\n",
    "Du trenger ikke forholde deg til hva \\_\\_main\\_\\_ betyr her, bare at variabelen er av typen Rectangle, som er klassen vi definerte. \n",
    "\n",
    "Slik som klassen nå er definert, har den inget innhold, men hvis vi ønsker å definere noen tilhørende variabler, kan vi gjøre dette i \\_\\_init\\_\\_() metoden. <br>\n",
    "Dette er hvor *self* først blir relevant. <br>\n",
    "*self* er en abstrakt referanse til et gitt objekt. <br>\n",
    "I praksis betyr dette at vi benytter *self* i tilfeller hvor vi ønsker å sette eller referere til klasse-elementer som skal være spesifikke for et gitt objekt. <br>\n",
    "Så hvis vi ønsker at verdien for en variabel skal være individuell for hvert opprettet objekt, kan vi definere dette ved bruk av *self* med følgende format:\n",
    "\n",
    "    self.\\<variabelnavn\\> = <verdi>\n",
    "    \n",
    "Dette kan konseptuelt forklares ved at vi definerer, ved å refere til *self*, at et gitt objekt skal ha en variabel med det oppgitte navnet, som skal settes til den spesifiserte verdien.\n",
    "    \n",
    "Ettersom \\_\\_init\\_\\_() er en metode (mye likt en funksjon) som vil kjøre når vi oppretter objekter, kan vi også dynamisk spesifisere hva disse variablene skal settes til via parametere. \n",
    "\n",
    "I konteksten av vår klasse, som skal representere rektangler, kan et eksempel på relevante variabler være høyde og vidde. <br>\n",
    "Disse kan dynamisk og individuellt settes for hvert opprettet objekt ved bruk av *self* og \\_\\_init\\_\\_(), som vist i eksemplet under:"
   ]
  },
  {
   "cell_type": "code",
   "execution_count": 4,
   "metadata": {},
   "outputs": [],
   "source": [
    "class Rectangle:\n",
    "    def __init__(self, height, width):\n",
    "        self.height = height\n",
    "        self.width = width"
   ]
  },
  {
   "cell_type": "markdown",
   "metadata": {},
   "source": [
    "Hvis vi nå skal opprette objekter av Rectangle-klassen, krever dette at vi spesifiserer parameterene for høyde og vidde:"
   ]
  },
  {
   "cell_type": "code",
   "execution_count": 1,
   "metadata": {},
   "outputs": [],
   "source": [
    "class Rectangle:\n",
    "    def __init__(self, height, width):\n",
    "        self.height = height\n",
    "        self.width = width\n",
    "        \n",
    "rectangle_1 = Rectangle(2, 10)\n",
    "rectangle_2 = Rectangle(5, 15)"
   ]
  },
  {
   "cell_type": "markdown",
   "metadata": {},
   "source": [
    "Merk igjen at vi ikke spesifiserer noen parameter for self. <br>\n",
    "Denne blir automatisk satt, og vi trenger ikke forholde oss til den når vi setter parameterene. <br>\n",
    "Verdien på første posisjon vil dermed tilsvare height, og andre posisjon, width.\n",
    "\n",
    "Med dette har vi nå opprettet to forskjellige objekter av Rectangle-klassen, den ene med en høyde av 2 og vidde av 10, og den andre med høyde 5 og vidde 15. <br>\n",
    "Vi kan også hente ut disse verdiene gjennom objektene ved å refere til variablene med følgende format:\n",
    "\n",
    "    <objekt>.<variabelnavn>\n",
    "    \n",
    "Et praktisk eksempel av dette er vist under:"
   ]
  },
  {
   "cell_type": "code",
   "execution_count": null,
   "metadata": {},
   "outputs": [],
   "source": [
    "class Rectangle:\n",
    "    def __init__(self, height, width):\n",
    "        self.height = height\n",
    "        self.width = width\n",
    "        \n",
    "rectangle_1 = Rectangle(2, 10)\n",
    "rectangle_2 = Rectangle(5, 15)\n",
    "\n",
    "print(f\"The first rectangle has a height of {rectangle_1.height} and a width of {rectangle_1.width}.\")\n",
    "print(f\"The second rectangle has a height of {rectangle_2.height} and a width of {rectangle_2.width}.\")"
   ]
  },
  {
   "cell_type": "markdown",
   "metadata": {},
   "source": [
    "Hvis vi også ønkser å definere metoder for klassen, kan vi gjøre dette på mer eller mindre samme måte som med funksjoner ved å definere metoden innenfor klassedefinisjonen. <br>\n",
    "Merk at som med \\_\\_init\\_\\_() metoden, må vi også definere *self* som første parameter for slike metoder.\n",
    "\n",
    "For å kalle en metode for et gitt objekt kan dette gjøres med følgende format:\n",
    "\n",
    "    <objekt>.<metodenavn>(<parameter 1>, <parameter 2>, ...)\n",
    "    \n",
    "I eksemplet under definerer vi en metode, get_area(), som returnerer arealet for det relevante objektet metoden kalles fra, og benytter denne metoden for å skrive ut de to opprettede objektenes respektive areal:"
   ]
  },
  {
   "cell_type": "code",
   "execution_count": 3,
   "metadata": {},
   "outputs": [
    {
     "name": "stdout",
     "output_type": "stream",
     "text": [
      "Area of the first rectangle: 20\n",
      "Area of the second rectangle: 75\n"
     ]
    }
   ],
   "source": [
    "class Rectangle:\n",
    "    def __init__(self, height, width):\n",
    "        self.height = height\n",
    "        self.width = width\n",
    "        \n",
    "    def get_area(self):\n",
    "        return self.height * self.width\n",
    "        \n",
    "rectangle_1 = Rectangle(2, 10)\n",
    "rectangle_2 = Rectangle(5, 15)\n",
    "\n",
    "print(f\"Area of the first rectangle: {rectangle_1.get_area()}\")\n",
    "print(f\"Area of the second rectangle: {rectangle_2.get_area()}\")"
   ]
  },
  {
   "cell_type": "code",
   "execution_count": null,
   "metadata": {},
   "outputs": [],
   "source": []
  }
 ],
 "metadata": {
  "kernelspec": {
   "display_name": "Python 3",
   "language": "python",
   "name": "python3"
  },
  "language_info": {
   "codemirror_mode": {
    "name": "ipython",
    "version": 3
   },
   "file_extension": ".py",
   "mimetype": "text/x-python",
   "name": "python",
   "nbconvert_exporter": "python",
   "pygments_lexer": "ipython3",
   "version": "3.8.6"
  }
 },
 "nbformat": 4,
 "nbformat_minor": 4
}
