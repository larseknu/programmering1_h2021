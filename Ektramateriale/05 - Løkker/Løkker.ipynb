{
 "cells": [
  {
   "cell_type": "markdown",
   "metadata": {},
   "source": [
    "# Løkker"
   ]
  },
  {
   "cell_type": "markdown",
   "metadata": {},
   "source": [
    "I programmering er det relativt vanlig at vi ønsker å kjøre praktisk talt samme kode flere ganger etter hverandre, altså over et visst antall iterasjoner. <br>\n",
    "Et eksempel på dette kan være hvis vi ønsker å iterere gjennom og gjørene noe med hvert element i en liste, eller det motsatte tilfellet, hvor vi ønsker å generere en liste på et vis, element for element. <br>\n",
    "\n",
    "Hvis vi skulle gjort dette manuelt hadde dette blitt tungvint å skrive og lese, og det ville vært vanskelig å opprettholde/oppdatere denne koden ettersom at dette ville kreve at man manuelt måtte endret hver \"iterasjon\" av koden. <br>\n",
    "I praksis fører dette ofte til feil som er slitsomme å løse. <br>\n",
    "\n",
    "I stedet for å skrive slik \"kodeiterering\" manuelt, kan vi benytte det som kalles \"løkker\". <br>\n",
    "Løkker er kodesekvenser som vil kjøre et visst antall ganger, enten ekplisitt definert eller dynamisk beregnet. \n",
    "\n",
    "Løkker i programmering kan konseptuellt sammenlignes med iterative handlinger i virkeligheten. <br>\n",
    "For eksempel, si at du skal pakke et visst antall pappesker med varer. <br>\n",
    "Hver iterasjon av denne overordnede oppgaven kan beskrives abstakt ved et sett med handlinger:\n",
    "    \n",
    "    1. Ta en ny pappeske.\n",
    "    2. Fyll pappesken med varene den skal inneholde.\n",
    "    3. Teip igjen pappesken.\n",
    "    \n",
    "Å benytte løkker i programmering er litt som å abstakt definere en iterativ oppgave datamaskinen skal utføre ved beskrive hva som skal utføres i hver iterasjon, men bare èn gang. <br>\n",
    "\n",
    "I hovedsak finnes det tre typer løkker:\n",
    "* for-løkker\n",
    "* \"for each\"-løkker\n",
    "* while-løkker\n",
    "\n",
    "I python er for-løkker og \"for each\"-løkker egentlig en og samme ting, men vi vil i denne notebooken likevel skille på dem ettersom at disse typisk har forskjellig syntaks i andre programmeringsspråk. <br>"
   ]
  },
  {
   "cell_type": "markdown",
   "metadata": {},
   "source": [
    "## for-løkker"
   ]
  },
  {
   "cell_type": "markdown",
   "metadata": {},
   "source": [
    "for-løkker i programmering referer (typisk sett) til når vi eksplisitt definerer antallet iterasjoner av en kodesekvens vi ønsker å kjøre. <br>\n",
    "I python kan dette for eksempel gjøres på følgende måte:"
   ]
  },
  {
   "cell_type": "code",
   "execution_count": 1,
   "metadata": {},
   "outputs": [
    {
     "name": "stdout",
     "output_type": "stream",
     "text": [
      "Iteration: 0\n",
      "Iteration: 1\n",
      "Iteration: 2\n",
      "Iteration: 3\n",
      "Iteration: 4\n"
     ]
    }
   ],
   "source": [
    "for x in range(5):\n",
    "    print(f\"Iteration: {x}\")"
   ]
  },
  {
   "cell_type": "markdown",
   "metadata": {},
   "source": [
    "Her er *x* en referanse til en gitt iterasjon i løkken og range(5) definerer at vi skal kjøre 5 totale iterasjoner. <br>\n",
    "Bemerk at vi ikke nødvendighvis trenger å kalle denne referansen for *x*, men at vi kan definere denne som hva vi enn måtte ønske, slik som ved variabler. <br>\n",
    "I programmering vil iterasjoner, som ved lister, starte på 0. <br>\n",
    "Det vil si at for den første iterasjonen, vil *x* være 0, for den andre 1, osv. og for den siste, siden vi definerte at totalt **antall** iterasjoner skulle være 5, vil *x* være 4. <br>\n",
    "Dette er dermed forklaringen på outputen, hvor hver iterasjon printer dens \"iterasjonsnummer\" ved å benytte referansen til denne verdien (*x*).\n",
    "\n",
    "Merk at vi også kan benytte operatorer med *x*: "
   ]
  },
  {
   "cell_type": "code",
   "execution_count": 2,
   "metadata": {},
   "outputs": [
    {
     "name": "stdout",
     "output_type": "stream",
     "text": [
      "Iteration: 1\n",
      "Iteration: 2\n",
      "Iteration: 3\n",
      "Iteration: 4\n",
      "Iteration: 5\n"
     ]
    }
   ],
   "source": [
    "for x in range(5):\n",
    "    print(f\"Iteration: {x+1}\")"
   ]
  },
  {
   "cell_type": "markdown",
   "metadata": {},
   "source": [
    "Hvis vi ønsker å definere et \"startnummer\" for iterasjonene, kan vi også gjøre dette med range(). <br>\n",
    "I eksemplet under definerer vi, ved range(3, 5), at iterasjonene skal starte på 3 og og iterere til 5. <br>\n",
    "Merk likevel at iterasjonene fremdeles bare vil gå til den øvre verdien, 5, minus 1, altså 4. <br>\n",
    "Med andre ord; range(3, 5) resulterer i to iterasjoner med tilhørende nummer (*x*) lik 3 og 4:"
   ]
  },
  {
   "cell_type": "code",
   "execution_count": 3,
   "metadata": {},
   "outputs": [
    {
     "name": "stdout",
     "output_type": "stream",
     "text": [
      "Iteration: 3\n",
      "Iteration: 4\n"
     ]
    }
   ],
   "source": [
    "for x in range(3, 5):\n",
    "    print(f\"Iteration: {x}\")"
   ]
  },
  {
   "cell_type": "markdown",
   "metadata": {},
   "source": [
    "Hvis vi ønsker å finjustere iterasjonnummere i enda større grad, kan vi også definere en \"stepsize\" for range(), som bestemmer hvor stort mellomrom det skal være mellom hvert iterasjonsnummer. <br>\n",
    "I det følgende eksemplet spesifiserer vi at vi skal starte på 0 og slutte på 10 (- 1), med en stepsize på 2. <br>\n",
    "Det vil si at hver iterasjon vil være av anhvert tall mellom 0 og 9:"
   ]
  },
  {
   "cell_type": "code",
   "execution_count": 7,
   "metadata": {},
   "outputs": [
    {
     "name": "stdout",
     "output_type": "stream",
     "text": [
      "Iteration: 0\n",
      "Iteration: 2\n",
      "Iteration: 4\n",
      "Iteration: 6\n",
      "Iteration: 8\n"
     ]
    }
   ],
   "source": [
    "for x in range(0, 10, 2):\n",
    "    print(f\"Iteration: {x}\")"
   ]
  },
  {
   "cell_type": "markdown",
   "metadata": {},
   "source": [
    "I Eksemplene over har vi definert løkkene med statiske verdier for antall iterasjoner. <br>\n",
    "Vi kan på en annen side også definere løkker på mer dynamiske måter. <br>\n",
    "For eksempel, kan vi definere antall iterasjoner med en variabel, slik at dette antallet kan bli definert et annet sted i koden. <br>\n",
    "Et spesifikt eksempel på dette er demonstrert under, hvor vi henter antall iterasjoner løkken skal kjøre fra brukeren:"
   ]
  },
  {
   "cell_type": "code",
   "execution_count": 8,
   "metadata": {},
   "outputs": [
    {
     "name": "stdout",
     "output_type": "stream",
     "text": [
      "How many times do you want to print \"Yes...\"?\n"
     ]
    },
    {
     "name": "stdin",
     "output_type": "stream",
     "text": [
      " 3\n"
     ]
    },
    {
     "name": "stdout",
     "output_type": "stream",
     "text": [
      "3\n",
      "Yes nr. 1\n",
      "Yes nr. 2\n",
      "Yes nr. 3\n"
     ]
    }
   ],
   "source": [
    "print('How many times do you want to print \"Yes...\"?')\n",
    "n_iterations = int(input())\n",
    "print(n_iterations)\n",
    "\n",
    "for x in range(n_iterations):\n",
    "    print(f\"Yes nr. {x+1}\")"
   ]
  },
  {
   "cell_type": "markdown",
   "metadata": {},
   "source": [
    "(Den overflødige bruken av print() i forbindelse med input, er bare for presentasjonsformål i notebooken.) <br>\n",
    "\n",
    "Vi kan også benytte for løkker til å iterere gjennom en liste ved å dynamisk sette antall iterasjoner til listens lengde og benytte \"iterasjonsnummeret\" (*x*) til å hente ut det relevante elementet:"
   ]
  },
  {
   "cell_type": "code",
   "execution_count": 6,
   "metadata": {},
   "outputs": [
    {
     "name": "stdout",
     "output_type": "stream",
     "text": [
      "Videogame 1: Dark Souls\n",
      "Videogame 2: Legend of Zelda\n",
      "Videogame 3: Fortnite\n",
      "Videogame 4: Tetris\n"
     ]
    }
   ],
   "source": [
    "videogames = [\"Dark Souls\", \"Legend of Zelda\", \"Fortnite\", \"Tetris\"]\n",
    "\n",
    "for x in range(len(videogames)):\n",
    "    print(f\"Videogame {x+1}: {videogames[x]}\")"
   ]
  },
  {
   "cell_type": "markdown",
   "metadata": {},
   "source": [
    "Dette er på en annen side en unødvendig tung måte å gjøre dette på og kan gjøres enklere ved bruk av \"for each\"-løkker."
   ]
  },
  {
   "cell_type": "markdown",
   "metadata": {},
   "source": [
    "## \"for each\"-løkker"
   ]
  },
  {
   "cell_type": "markdown",
   "metadata": {},
   "source": [
    "\"for each\"-løkker er løkker som er spesialiserte for å iterere gjennom inneholdte elementer av \"noe\". <br>\n",
    "Hva \"noe\" er, kan variere, men som oftest er det lister vi snakker om. <br>\n",
    "Eksemplet under viser hvordan vi kan iterere gjennom en liste med titler på videospill:"
   ]
  },
  {
   "cell_type": "code",
   "execution_count": 7,
   "metadata": {},
   "outputs": [
    {
     "name": "stdout",
     "output_type": "stream",
     "text": [
      "Dark Souls\n",
      "Legend of Zelda\n",
      "Fortnite\n",
      "Tetris\n"
     ]
    }
   ],
   "source": [
    "videogames = [\"Dark Souls\", \"Legend of Zelda\", \"Fortnite\", \"Tetris\"]\n",
    "\n",
    "for videogame in videogames:\n",
    "    print(videogame)"
   ]
  },
  {
   "cell_type": "markdown",
   "metadata": {},
   "source": [
    "Denne løkken går iterativt gjennom hver spilltittle, *videogame*, i spill-listen, *videogames*, og skriver ut hver enkelt av dem.\n",
    "\n",
    "Som sagt, er ikke bruken av \"for each\"-løkker eksklusiv til lister. <br>\n",
    "Vi kan for eksempel også benytte slike løkker for å gå gjennom hvert symbol i en tekststreng:"
   ]
  },
  {
   "cell_type": "code",
   "execution_count": 3,
   "metadata": {},
   "outputs": [
    {
     "name": "stdout",
     "output_type": "stream",
     "text": [
      "E\n",
      "q\n",
      "u\n",
      "i\n",
      "l\n",
      "i\n",
      "b\n",
      "r\n",
      "i\n",
      "u\n",
      "m\n"
     ]
    }
   ],
   "source": [
    "word = \"Equilibrium\"\n",
    "\n",
    "for symbol in word:\n",
    "    print(symbol)"
   ]
  },
  {
   "cell_type": "markdown",
   "metadata": {},
   "source": [
    "Andre bruk av \"for each\"-løkker kan for eksempel være å summere opp tallene i en liste:"
   ]
  },
  {
   "cell_type": "code",
   "execution_count": 23,
   "metadata": {},
   "outputs": [
    {
     "name": "stdout",
     "output_type": "stream",
     "text": [
      "17\n"
     ]
    }
   ],
   "source": [
    "numbers = [5, 2, 10]\n",
    "sum_of_numbers = 0\n",
    "\n",
    "for number in numbers:\n",
    "    sum_of_numbers += number\n",
    "    \n",
    "print(sum_of_numbers)"
   ]
  },
  {
   "cell_type": "markdown",
   "metadata": {},
   "source": [
    "Nå skal det sies at det finnes enklere måter å summere tall i lister (og lignende operasjoner), men vi utelater disse for nå ettersom de ikke er direkte relevante for løkker."
   ]
  },
  {
   "cell_type": "markdown",
   "metadata": {},
   "source": [
    "## Forskjellen på for-løkker og \"for each\"-løkker i python"
   ]
  },
  {
   "cell_type": "markdown",
   "metadata": {},
   "source": [
    "Som nevt tidligere, er det egentlig ingen forskjell på for-løkker og \"for each\"-løkker i python. <br>\n",
    "Teknisk sett har alle de tidligere eksemplene av disse to teknikkene benyttet \"for each\"-løkker. <br>\n",
    "Dette kan forklares ved at range() teknisk sett oppretter noe som kan tenkes på som en liste, nemlig et range-object: "
   ]
  },
  {
   "cell_type": "code",
   "execution_count": 6,
   "metadata": {},
   "outputs": [
    {
     "name": "stdout",
     "output_type": "stream",
     "text": [
      "range(0, 5)\n"
     ]
    }
   ],
   "source": [
    "print(range(5))"
   ]
  },
  {
   "cell_type": "markdown",
   "metadata": {},
   "source": [
    "Dette er et type objekt som representerer en sekvens av tall; fra 0 til 5, i dette eksempelet. <br>\n",
    "Selv om dette ikke direkte er en liste, er det praktisk talt det samme. <br>\n",
    "For eksempel, kan vi enkelt oprette en liste fra 0 til 5 ved å benytte list() sammen med range() på denne måten:"
   ]
  },
  {
   "cell_type": "code",
   "execution_count": 4,
   "metadata": {},
   "outputs": [
    {
     "name": "stdout",
     "output_type": "stream",
     "text": [
      "[0, 1, 2, 3, 4]\n"
     ]
    }
   ],
   "source": [
    "numbers = list(range(5))\n",
    "print(numbers)"
   ]
  },
  {
   "cell_type": "markdown",
   "metadata": {},
   "source": [
    "Det samme gjelder ved andre bruk av range(), for eksempel hvis vi eksplisitt definerer startverdien:"
   ]
  },
  {
   "cell_type": "code",
   "execution_count": 5,
   "metadata": {},
   "outputs": [
    {
     "name": "stdout",
     "output_type": "stream",
     "text": [
      "[3, 4]\n"
     ]
    }
   ],
   "source": [
    "numbers = list(range(3, 5))\n",
    "print(numbers)"
   ]
  },
  {
   "cell_type": "markdown",
   "metadata": {},
   "source": [
    "Vi kan dermed se at det som teknisk sett skjer når vi opretter for-løkker ved å benytte range(), er at vi opretter et liste-aktig objekt og går gjennom hvert element i dette objektet med \"for each\". <br>\n",
    "Som sagt, er dette ganske unikt for python, og i de fleste andre programmeringsspråk er det er tydelig skille på hvordan for-løkker og \"for each\"-løkker fungerer og sytakstmessig defineres. <br>\n",
    "Vi anbefaler derfor å holde disse disse begrepene atskilte og konseputelt tenke på dem som forskjellige, selv når du koder i python. "
   ]
  },
  {
   "cell_type": "markdown",
   "metadata": {},
   "source": [
    "## while-løkker"
   ]
  },
  {
   "cell_type": "markdown",
   "metadata": {},
   "source": [
    "En annen type løkke, som fungerer litt annerledes enn for-løkker og \"for each\"-løkker, er det vi kaller for while-løkker. <br>\n",
    "En while-løkke kan tenkes på som en if-test som vil iterativt kjøre så lenge en definert betingelse er oppfylt, og stoppe når dette ikke lenger er tilfellet. <br>\n",
    "Med andre ord vil en while-løkke kjøre så lenge betingelsen er lik True. <br>\n",
    "I eksemplet under har vi dermed definert en uendelig løkke ettersom betingelsen er statisk satt til være True (for å stoppe denne må du avbryte selve programmet):"
   ]
  },
  {
   "cell_type": "code",
   "execution_count": null,
   "metadata": {},
   "outputs": [],
   "source": [
    "while True:\n",
    "    print(\"test\")"
   ]
  },
  {
   "cell_type": "markdown",
   "metadata": {},
   "source": [
    "Hvis vi vil å benytte en unendelig løkke, men ønsker å også kunne avbryte den programmatisk, kan vi i så fall benytte *break*-kommandoen:"
   ]
  },
  {
   "cell_type": "code",
   "execution_count": 21,
   "metadata": {},
   "outputs": [
    {
     "name": "stdout",
     "output_type": "stream",
     "text": [
      "test\n"
     ]
    }
   ],
   "source": [
    "while True:\n",
    "    print(\"test\")\n",
    "    break"
   ]
  },
  {
   "cell_type": "markdown",
   "metadata": {},
   "source": [
    "Denne kommanden vil avslutte en gitt løkke uavhengig av hvilken iterasjon den er i. <br>\n",
    "Med andre ord, vil denne kommandoen også fungere for andre typer løkker.\n",
    "\n",
    "Hvis vi ønsker å benytte en while-løkke relativt likt som en for-løkke, kan vi gjøre dette på følgende måte:"
   ]
  },
  {
   "cell_type": "code",
   "execution_count": 12,
   "metadata": {},
   "outputs": [
    {
     "name": "stdout",
     "output_type": "stream",
     "text": [
      "Iteration: 0\n",
      "Iteration: 1\n",
      "Iteration: 2\n",
      "Iteration: 3\n",
      "Iteration: 4\n"
     ]
    }
   ],
   "source": [
    "iteration = 0\n",
    "\n",
    "while iteration < 5:\n",
    "    print(f\"Iteration: {iteration}\")\n",
    "    iteration += 1"
   ]
  },
  {
   "cell_type": "markdown",
   "metadata": {},
   "source": [
    "Dette er på en annen side lite fordelaktig overfor å bare benytte en for-løkke. \n",
    "\n",
    "De tilfellene som while-løkker er spesielt godt egnet, er når vi ikke vet akkurat hvor mange ganger vi skal iterere løkken, men vi vet hvilke tilfeller den skal eller ikke skal kjøre. <br>\n",
    "Eksempelet under viser et tilfelle hvor vi ønsker å spørre brukeren om å svare på et spørsmål helt til svaret er \"riktig\" (Dette er bare et eksempel. Vi diskriminerer ikke mot andre dyr):"
   ]
  },
  {
   "cell_type": "code",
   "execution_count": 3,
   "metadata": {},
   "outputs": [
    {
     "name": "stdout",
     "output_type": "stream",
     "text": [
      "What is man's best friend?:\n"
     ]
    },
    {
     "name": "stdin",
     "output_type": "stream",
     "text": [
      " Cat\n"
     ]
    },
    {
     "name": "stdout",
     "output_type": "stream",
     "text": [
      "Cat\n",
      "Incorrect! Try again.\n",
      "What is man's best friend?:\n"
     ]
    },
    {
     "name": "stdin",
     "output_type": "stream",
     "text": [
      " Penguin\n"
     ]
    },
    {
     "name": "stdout",
     "output_type": "stream",
     "text": [
      "Penguin\n",
      "Incorrect! Try again.\n",
      "What is man's best friend?:\n"
     ]
    },
    {
     "name": "stdin",
     "output_type": "stream",
     "text": [
      " Turtle\n"
     ]
    },
    {
     "name": "stdout",
     "output_type": "stream",
     "text": [
      "Turtle\n",
      "Incorrect! Try again.\n",
      "What is man's best friend?:\n"
     ]
    },
    {
     "name": "stdin",
     "output_type": "stream",
     "text": [
      " Dog\n"
     ]
    },
    {
     "name": "stdout",
     "output_type": "stream",
     "text": [
      "Dog\n",
      "Correct!\n"
     ]
    }
   ],
   "source": [
    "correct = False\n",
    "\n",
    "while correct == False:\n",
    "    print(\"What is man's best friend?:\")\n",
    "    answer = input()\n",
    "    print(answer)\n",
    "    if answer.lower() == \"dog\":\n",
    "        print(\"Correct!\")\n",
    "        correct = True\n",
    "    else:\n",
    "        print(\"Incorrect! Try again.\")"
   ]
  },
  {
   "cell_type": "markdown",
   "metadata": {},
   "source": [
    "(Også som i enkelte tidligere eksempler, er den overflødige bruken av print() i forbindelse med input bare for presentasjon i notebooken.)"
   ]
  },
  {
   "cell_type": "code",
   "execution_count": null,
   "metadata": {},
   "outputs": [],
   "source": []
  }
 ],
 "metadata": {
  "kernelspec": {
   "display_name": "Python 3",
   "language": "python",
   "name": "python3"
  },
  "language_info": {
   "codemirror_mode": {
    "name": "ipython",
    "version": 3
   },
   "file_extension": ".py",
   "mimetype": "text/x-python",
   "name": "python",
   "nbconvert_exporter": "python",
   "pygments_lexer": "ipython3",
   "version": "3.8.6"
  }
 },
 "nbformat": 4,
 "nbformat_minor": 4
}
